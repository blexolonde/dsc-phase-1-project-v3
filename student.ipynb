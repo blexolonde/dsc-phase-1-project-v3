{
 "cells": [
  {
   "cell_type": "markdown",
   "metadata": {},
   "source": [
    "## Final Project Submission"
   ]
  },
  {
   "cell_type": "markdown",
   "metadata": {},
   "source": [
    "## Business Understanding\n",
    "\n",
    ">As our company prepares to enter the aviation industry, making informed decisions about aircraft selection is critical to ensuring both operational safety and customer confidence. Aviation, while an essential mode of transport, inherently carries safety risks that can have severe human and financial impacts. Selecting aircraft models with strong safety records can significantly reduce these risks and establish our brand as a trusted player in both commercial and private aviation markets.\n",
    "\n",
    ">This project aims to analyze historical aviation accident data to identify the safest aircraft models suitable for our operations. By examining patterns related to accident frequency, injury severity, aircraft damage, and other relevant factors, we seek to uncover actionable insights. The goal is to build a data-driven recommendation for aircraft models that demonstrate exceptional safety performance over time.\n",
    "\n",
    ">**Key objectives include:**\n",
    "- **Assessing accident trends** across different aircraft makes and models.\n",
    "- **Evaluating injury severity and aircraft damage** associated with each model.\n",
    "- **Identifying patterns** in weather conditions, flight phases, and purposes of flight that correlate with incidents.\n",
    "- **Recommending aircraft models** with consistently low risk profiles for both commercial and private use.\n",
    "\n",
    ">**By leveraging this analysis, our company will be better positioned to make strategic fleet investments, prioritize passenger and crew safety, and build a reputation grounded in reliability and trustworthiness in the aviation sector.**\n",
    "\n",
    "---"
   ]
  },
  {
   "cell_type": "markdown",
   "metadata": {
    "vscode": {
     "languageId": "plaintext"
    }
   },
   "source": [
    "## Data Understanding\n",
    "\n",
    "To support our goal of identifying the safest aircraft models, we are leveraging a comprehensive dataset sourced from the [National Transportation Safety Board (NTSB) Aviation Accident Database](https://www.kaggle.com/datasets/khsamaha/aviation-accident-database-synopses). This dataset contains detailed records of past aviation incidents, offering valuable insights into various factors that contribute to aircraft safety performance.\n",
    "\n",
    "The dataset includes over 90,000 entries, each representing an individual accident report. The key variables captured include:\n",
    "\n",
    "- **Aircraft Information**  \n",
    "  - *Make*: Manufacturer of the aircraft.  \n",
    "  - *Model*: Specific aircraft model.  \n",
    "  - *Aircraft Damage*: Extent of damage sustained during the incident.  \n",
    "  - *Number of Engines*, *Engine Type*: Technical specifications influencing aircraft performance and reliability.  \n",
    "  - *Amateur Built*: Indicates if the aircraft was built by an amateur or certified manufacturer.\n",
    "\n",
    "- **Flight Information**  \n",
    "  - *Purpose of Flight*: Categorizes the reason for the flight (e.g., personal, commercial).  \n",
    "  - *Schedule*: Whether the flight was scheduled or non-scheduled.  \n",
    "  - *Broad Phase of Flight*: Indicates the flight phase during which the accident occurred.\n",
    "\n",
    "- **Safety Outcomes**  \n",
    "  - *Total Fatal Injuries*: Number of fatalities per incident.  \n",
    "  - *Total Serious/Minor Injuries*, *Total Uninjured*: Breakdown of injury severity outcomes.  \n",
    "  - *Injury Severity*: Overall categorization of injury impact.\n",
    "\n",
    "- **Environmental Conditions**  \n",
    "  - *Weather Condition*: Weather status at the time of the accident.  \n",
    "  - *Location*, *Country*, *Latitude*, *Longitude*: Geographic data for regional analysis.\n",
    "\n",
    "- **Investigation Details**  \n",
    "  - *Investigation Type*: Nature of the investigation (e.g., accident, incident).  \n",
    "  - *Report Status*: Current status of the accident report.  \n",
    "  - *Event Date*, *Publication Date*: Timeline details of the incident and reporting.\n",
    "\n",
    "Initial data exploration has confirmed the dataset’s richness and relevance for our analysis. I’ve identified critical columns with complete data, ensuring our insights are based on reliable information. Before proceeding to detailed analysis, we will perform necessary data cleaning and preprocessing steps to handle missing values, standardize formats, and prepare the data for meaningful exploration.\n",
    "\n",
    "Understanding the variables and their interrelationships will guide us in building visualizations, statistical summaries, and predictive insights, ultimately leading to well-informed aircraft recommendations.\n",
    "\n",
    "----\n"
   ]
  },
  {
   "cell_type": "markdown",
   "metadata": {},
   "source": [
    "#### **2.1. Import Relevant Libraries**\n",
    "\n",
    "> These libraries are essential for data manipulation, exploration, and visualization."
   ]
  },
  {
   "cell_type": "code",
   "execution_count": 1,
   "metadata": {},
   "outputs": [],
   "source": [
    "import pandas as pd\n",
    "import numpy as np\n",
    "import matplotlib.pyplot as plt\n",
    "import seaborn as sns\n",
    "import re\n",
    "\n",
    "# Display settings\n",
    "pd.set_option('display.max_columns', None)\n",
    "pd.set_option('display.width', None)\n"
   ]
  },
  {
   "cell_type": "markdown",
   "metadata": {},
   "source": [
    "#### **2.2. Load Data**\n",
    "\n",
    "> Loading the aviation dataset  ,encoding is specified to avoid issues with special characters."
   ]
  },
  {
   "cell_type": "code",
   "execution_count": 2,
   "metadata": {},
   "outputs": [
    {
     "name": "stderr",
     "output_type": "stream",
     "text": [
      "/tmp/ipykernel_2896/2775859927.py:6: DtypeWarning: Columns (6,7,28) have mixed types. Specify dtype option on import or set low_memory=False.\n",
      "  df = pd.read_csv(aviation_data_path, encoding='latin-1')\n"
     ]
    }
   ],
   "source": [
    "# Define the file path for the aviation data CSV file\n",
    "aviation_data_path = 'data/Aviation_Data.csv'\n",
    "\n",
    "# Load the aviation data into a pandas DataFrame\n",
    "# 'latin-1' encoding is specified to handle special characters that might cause errors with the default encoding\n",
    "df = pd.read_csv(aviation_data_path, encoding='latin-1')\n"
   ]
  },
  {
   "cell_type": "markdown",
   "metadata": {},
   "source": [
    "> Create a copy of the original DataFrame, for safe manipulation and analysis without altering the original dataset"
   ]
  },
  {
   "cell_type": "code",
   "execution_count": 3,
   "metadata": {},
   "outputs": [],
   "source": [
    "# Create a copy of the original DataFrame to preserve the raw data\n",
    "\n",
    "aviation_df = df.copy()"
   ]
  },
  {
   "cell_type": "markdown",
   "metadata": {},
   "source": [
    "#### **2.3. Preview the Data**\n",
    "> Quickly inspecting the structure and contents of the dataset"
   ]
  },
  {
   "cell_type": "code",
   "execution_count": 4,
   "metadata": {},
   "outputs": [
    {
     "name": "stdout",
     "output_type": "stream",
     "text": [
      "First few rows of Aviation Data Frame:\n"
     ]
    },
    {
     "data": {
      "application/vnd.microsoft.datawrangler.viewer.v0+json": {
       "columns": [
        {
         "name": "index",
         "rawType": "int64",
         "type": "integer"
        },
        {
         "name": "Event.Id",
         "rawType": "object",
         "type": "string"
        },
        {
         "name": "Investigation.Type",
         "rawType": "object",
         "type": "string"
        },
        {
         "name": "Accident.Number",
         "rawType": "object",
         "type": "string"
        },
        {
         "name": "Event.Date",
         "rawType": "object",
         "type": "string"
        },
        {
         "name": "Location",
         "rawType": "object",
         "type": "string"
        },
        {
         "name": "Country",
         "rawType": "object",
         "type": "string"
        },
        {
         "name": "Latitude",
         "rawType": "object",
         "type": "unknown"
        },
        {
         "name": "Longitude",
         "rawType": "object",
         "type": "unknown"
        },
        {
         "name": "Airport.Code",
         "rawType": "object",
         "type": "unknown"
        },
        {
         "name": "Airport.Name",
         "rawType": "object",
         "type": "unknown"
        },
        {
         "name": "Injury.Severity",
         "rawType": "object",
         "type": "string"
        },
        {
         "name": "Aircraft.damage",
         "rawType": "object",
         "type": "string"
        },
        {
         "name": "Aircraft.Category",
         "rawType": "object",
         "type": "unknown"
        },
        {
         "name": "Registration.Number",
         "rawType": "object",
         "type": "string"
        },
        {
         "name": "Make",
         "rawType": "object",
         "type": "string"
        },
        {
         "name": "Model",
         "rawType": "object",
         "type": "string"
        },
        {
         "name": "Amateur.Built",
         "rawType": "object",
         "type": "string"
        },
        {
         "name": "Number.of.Engines",
         "rawType": "float64",
         "type": "float"
        },
        {
         "name": "Engine.Type",
         "rawType": "object",
         "type": "unknown"
        },
        {
         "name": "FAR.Description",
         "rawType": "object",
         "type": "unknown"
        },
        {
         "name": "Schedule",
         "rawType": "object",
         "type": "unknown"
        },
        {
         "name": "Purpose.of.flight",
         "rawType": "object",
         "type": "string"
        },
        {
         "name": "Air.carrier",
         "rawType": "object",
         "type": "unknown"
        },
        {
         "name": "Total.Fatal.Injuries",
         "rawType": "float64",
         "type": "float"
        },
        {
         "name": "Total.Serious.Injuries",
         "rawType": "float64",
         "type": "float"
        },
        {
         "name": "Total.Minor.Injuries",
         "rawType": "float64",
         "type": "float"
        },
        {
         "name": "Total.Uninjured",
         "rawType": "float64",
         "type": "float"
        },
        {
         "name": "Weather.Condition",
         "rawType": "object",
         "type": "string"
        },
        {
         "name": "Broad.phase.of.flight",
         "rawType": "object",
         "type": "string"
        },
        {
         "name": "Report.Status",
         "rawType": "object",
         "type": "string"
        },
        {
         "name": "Publication.Date",
         "rawType": "object",
         "type": "unknown"
        }
       ],
       "conversionMethod": "pd.DataFrame",
       "ref": "73459d39-a5e3-4b3c-a569-e691be636bc5",
       "rows": [
        [
         "0",
         "20001218X45444",
         "Accident",
         "SEA87LA080",
         "1948-10-24",
         "MOOSE CREEK, ID",
         "United States",
         null,
         null,
         null,
         null,
         "Fatal(2)",
         "Destroyed",
         null,
         "NC6404",
         "Stinson",
         "108-3",
         "No",
         "1.0",
         "Reciprocating",
         null,
         null,
         "Personal",
         null,
         "2.0",
         "0.0",
         "0.0",
         "0.0",
         "UNK",
         "Cruise",
         "Probable Cause",
         null
        ],
        [
         "1",
         "20001218X45447",
         "Accident",
         "LAX94LA336",
         "1962-07-19",
         "BRIDGEPORT, CA",
         "United States",
         null,
         null,
         null,
         null,
         "Fatal(4)",
         "Destroyed",
         null,
         "N5069P",
         "Piper",
         "PA24-180",
         "No",
         "1.0",
         "Reciprocating",
         null,
         null,
         "Personal",
         null,
         "4.0",
         "0.0",
         "0.0",
         "0.0",
         "UNK",
         "Unknown",
         "Probable Cause",
         "19-09-1996"
        ],
        [
         "2",
         "20061025X01555",
         "Accident",
         "NYC07LA005",
         "1974-08-30",
         "Saltville, VA",
         "United States",
         "36.922223",
         "-81.878056",
         null,
         null,
         "Fatal(3)",
         "Destroyed",
         null,
         "N5142R",
         "Cessna",
         "172M",
         "No",
         "1.0",
         "Reciprocating",
         null,
         null,
         "Personal",
         null,
         "3.0",
         null,
         null,
         null,
         "IMC",
         "Cruise",
         "Probable Cause",
         "26-02-2007"
        ],
        [
         "3",
         "20001218X45448",
         "Accident",
         "LAX96LA321",
         "1977-06-19",
         "EUREKA, CA",
         "United States",
         null,
         null,
         null,
         null,
         "Fatal(2)",
         "Destroyed",
         null,
         "N1168J",
         "Rockwell",
         "112",
         "No",
         "1.0",
         "Reciprocating",
         null,
         null,
         "Personal",
         null,
         "2.0",
         "0.0",
         "0.0",
         "0.0",
         "IMC",
         "Cruise",
         "Probable Cause",
         "12-09-2000"
        ],
        [
         "4",
         "20041105X01764",
         "Accident",
         "CHI79FA064",
         "1979-08-02",
         "Canton, OH",
         "United States",
         null,
         null,
         null,
         null,
         "Fatal(1)",
         "Destroyed",
         null,
         "N15NY",
         "Cessna",
         "501",
         "No",
         null,
         null,
         null,
         null,
         "Personal",
         null,
         "1.0",
         "2.0",
         null,
         "0.0",
         "VMC",
         "Approach",
         "Probable Cause",
         "16-04-1980"
        ]
       ],
       "shape": {
        "columns": 31,
        "rows": 5
       }
      },
      "text/html": [
       "<div>\n",
       "<style scoped>\n",
       "    .dataframe tbody tr th:only-of-type {\n",
       "        vertical-align: middle;\n",
       "    }\n",
       "\n",
       "    .dataframe tbody tr th {\n",
       "        vertical-align: top;\n",
       "    }\n",
       "\n",
       "    .dataframe thead th {\n",
       "        text-align: right;\n",
       "    }\n",
       "</style>\n",
       "<table border=\"1\" class=\"dataframe\">\n",
       "  <thead>\n",
       "    <tr style=\"text-align: right;\">\n",
       "      <th></th>\n",
       "      <th>Event.Id</th>\n",
       "      <th>Investigation.Type</th>\n",
       "      <th>Accident.Number</th>\n",
       "      <th>Event.Date</th>\n",
       "      <th>Location</th>\n",
       "      <th>Country</th>\n",
       "      <th>Latitude</th>\n",
       "      <th>Longitude</th>\n",
       "      <th>Airport.Code</th>\n",
       "      <th>Airport.Name</th>\n",
       "      <th>Injury.Severity</th>\n",
       "      <th>Aircraft.damage</th>\n",
       "      <th>Aircraft.Category</th>\n",
       "      <th>Registration.Number</th>\n",
       "      <th>Make</th>\n",
       "      <th>Model</th>\n",
       "      <th>Amateur.Built</th>\n",
       "      <th>Number.of.Engines</th>\n",
       "      <th>Engine.Type</th>\n",
       "      <th>FAR.Description</th>\n",
       "      <th>Schedule</th>\n",
       "      <th>Purpose.of.flight</th>\n",
       "      <th>Air.carrier</th>\n",
       "      <th>Total.Fatal.Injuries</th>\n",
       "      <th>Total.Serious.Injuries</th>\n",
       "      <th>Total.Minor.Injuries</th>\n",
       "      <th>Total.Uninjured</th>\n",
       "      <th>Weather.Condition</th>\n",
       "      <th>Broad.phase.of.flight</th>\n",
       "      <th>Report.Status</th>\n",
       "      <th>Publication.Date</th>\n",
       "    </tr>\n",
       "  </thead>\n",
       "  <tbody>\n",
       "    <tr>\n",
       "      <th>0</th>\n",
       "      <td>20001218X45444</td>\n",
       "      <td>Accident</td>\n",
       "      <td>SEA87LA080</td>\n",
       "      <td>1948-10-24</td>\n",
       "      <td>MOOSE CREEK, ID</td>\n",
       "      <td>United States</td>\n",
       "      <td>NaN</td>\n",
       "      <td>NaN</td>\n",
       "      <td>NaN</td>\n",
       "      <td>NaN</td>\n",
       "      <td>Fatal(2)</td>\n",
       "      <td>Destroyed</td>\n",
       "      <td>NaN</td>\n",
       "      <td>NC6404</td>\n",
       "      <td>Stinson</td>\n",
       "      <td>108-3</td>\n",
       "      <td>No</td>\n",
       "      <td>1.0</td>\n",
       "      <td>Reciprocating</td>\n",
       "      <td>NaN</td>\n",
       "      <td>NaN</td>\n",
       "      <td>Personal</td>\n",
       "      <td>NaN</td>\n",
       "      <td>2.0</td>\n",
       "      <td>0.0</td>\n",
       "      <td>0.0</td>\n",
       "      <td>0.0</td>\n",
       "      <td>UNK</td>\n",
       "      <td>Cruise</td>\n",
       "      <td>Probable Cause</td>\n",
       "      <td>NaN</td>\n",
       "    </tr>\n",
       "    <tr>\n",
       "      <th>1</th>\n",
       "      <td>20001218X45447</td>\n",
       "      <td>Accident</td>\n",
       "      <td>LAX94LA336</td>\n",
       "      <td>1962-07-19</td>\n",
       "      <td>BRIDGEPORT, CA</td>\n",
       "      <td>United States</td>\n",
       "      <td>NaN</td>\n",
       "      <td>NaN</td>\n",
       "      <td>NaN</td>\n",
       "      <td>NaN</td>\n",
       "      <td>Fatal(4)</td>\n",
       "      <td>Destroyed</td>\n",
       "      <td>NaN</td>\n",
       "      <td>N5069P</td>\n",
       "      <td>Piper</td>\n",
       "      <td>PA24-180</td>\n",
       "      <td>No</td>\n",
       "      <td>1.0</td>\n",
       "      <td>Reciprocating</td>\n",
       "      <td>NaN</td>\n",
       "      <td>NaN</td>\n",
       "      <td>Personal</td>\n",
       "      <td>NaN</td>\n",
       "      <td>4.0</td>\n",
       "      <td>0.0</td>\n",
       "      <td>0.0</td>\n",
       "      <td>0.0</td>\n",
       "      <td>UNK</td>\n",
       "      <td>Unknown</td>\n",
       "      <td>Probable Cause</td>\n",
       "      <td>19-09-1996</td>\n",
       "    </tr>\n",
       "    <tr>\n",
       "      <th>2</th>\n",
       "      <td>20061025X01555</td>\n",
       "      <td>Accident</td>\n",
       "      <td>NYC07LA005</td>\n",
       "      <td>1974-08-30</td>\n",
       "      <td>Saltville, VA</td>\n",
       "      <td>United States</td>\n",
       "      <td>36.922223</td>\n",
       "      <td>-81.878056</td>\n",
       "      <td>NaN</td>\n",
       "      <td>NaN</td>\n",
       "      <td>Fatal(3)</td>\n",
       "      <td>Destroyed</td>\n",
       "      <td>NaN</td>\n",
       "      <td>N5142R</td>\n",
       "      <td>Cessna</td>\n",
       "      <td>172M</td>\n",
       "      <td>No</td>\n",
       "      <td>1.0</td>\n",
       "      <td>Reciprocating</td>\n",
       "      <td>NaN</td>\n",
       "      <td>NaN</td>\n",
       "      <td>Personal</td>\n",
       "      <td>NaN</td>\n",
       "      <td>3.0</td>\n",
       "      <td>NaN</td>\n",
       "      <td>NaN</td>\n",
       "      <td>NaN</td>\n",
       "      <td>IMC</td>\n",
       "      <td>Cruise</td>\n",
       "      <td>Probable Cause</td>\n",
       "      <td>26-02-2007</td>\n",
       "    </tr>\n",
       "    <tr>\n",
       "      <th>3</th>\n",
       "      <td>20001218X45448</td>\n",
       "      <td>Accident</td>\n",
       "      <td>LAX96LA321</td>\n",
       "      <td>1977-06-19</td>\n",
       "      <td>EUREKA, CA</td>\n",
       "      <td>United States</td>\n",
       "      <td>NaN</td>\n",
       "      <td>NaN</td>\n",
       "      <td>NaN</td>\n",
       "      <td>NaN</td>\n",
       "      <td>Fatal(2)</td>\n",
       "      <td>Destroyed</td>\n",
       "      <td>NaN</td>\n",
       "      <td>N1168J</td>\n",
       "      <td>Rockwell</td>\n",
       "      <td>112</td>\n",
       "      <td>No</td>\n",
       "      <td>1.0</td>\n",
       "      <td>Reciprocating</td>\n",
       "      <td>NaN</td>\n",
       "      <td>NaN</td>\n",
       "      <td>Personal</td>\n",
       "      <td>NaN</td>\n",
       "      <td>2.0</td>\n",
       "      <td>0.0</td>\n",
       "      <td>0.0</td>\n",
       "      <td>0.0</td>\n",
       "      <td>IMC</td>\n",
       "      <td>Cruise</td>\n",
       "      <td>Probable Cause</td>\n",
       "      <td>12-09-2000</td>\n",
       "    </tr>\n",
       "    <tr>\n",
       "      <th>4</th>\n",
       "      <td>20041105X01764</td>\n",
       "      <td>Accident</td>\n",
       "      <td>CHI79FA064</td>\n",
       "      <td>1979-08-02</td>\n",
       "      <td>Canton, OH</td>\n",
       "      <td>United States</td>\n",
       "      <td>NaN</td>\n",
       "      <td>NaN</td>\n",
       "      <td>NaN</td>\n",
       "      <td>NaN</td>\n",
       "      <td>Fatal(1)</td>\n",
       "      <td>Destroyed</td>\n",
       "      <td>NaN</td>\n",
       "      <td>N15NY</td>\n",
       "      <td>Cessna</td>\n",
       "      <td>501</td>\n",
       "      <td>No</td>\n",
       "      <td>NaN</td>\n",
       "      <td>NaN</td>\n",
       "      <td>NaN</td>\n",
       "      <td>NaN</td>\n",
       "      <td>Personal</td>\n",
       "      <td>NaN</td>\n",
       "      <td>1.0</td>\n",
       "      <td>2.0</td>\n",
       "      <td>NaN</td>\n",
       "      <td>0.0</td>\n",
       "      <td>VMC</td>\n",
       "      <td>Approach</td>\n",
       "      <td>Probable Cause</td>\n",
       "      <td>16-04-1980</td>\n",
       "    </tr>\n",
       "  </tbody>\n",
       "</table>\n",
       "</div>"
      ],
      "text/plain": [
       "         Event.Id Investigation.Type Accident.Number  Event.Date  \\\n",
       "0  20001218X45444           Accident      SEA87LA080  1948-10-24   \n",
       "1  20001218X45447           Accident      LAX94LA336  1962-07-19   \n",
       "2  20061025X01555           Accident      NYC07LA005  1974-08-30   \n",
       "3  20001218X45448           Accident      LAX96LA321  1977-06-19   \n",
       "4  20041105X01764           Accident      CHI79FA064  1979-08-02   \n",
       "\n",
       "          Location        Country   Latitude  Longitude Airport.Code  \\\n",
       "0  MOOSE CREEK, ID  United States        NaN        NaN          NaN   \n",
       "1   BRIDGEPORT, CA  United States        NaN        NaN          NaN   \n",
       "2    Saltville, VA  United States  36.922223 -81.878056          NaN   \n",
       "3       EUREKA, CA  United States        NaN        NaN          NaN   \n",
       "4       Canton, OH  United States        NaN        NaN          NaN   \n",
       "\n",
       "  Airport.Name Injury.Severity Aircraft.damage Aircraft.Category  \\\n",
       "0          NaN        Fatal(2)       Destroyed               NaN   \n",
       "1          NaN        Fatal(4)       Destroyed               NaN   \n",
       "2          NaN        Fatal(3)       Destroyed               NaN   \n",
       "3          NaN        Fatal(2)       Destroyed               NaN   \n",
       "4          NaN        Fatal(1)       Destroyed               NaN   \n",
       "\n",
       "  Registration.Number      Make     Model Amateur.Built  Number.of.Engines  \\\n",
       "0              NC6404   Stinson     108-3            No                1.0   \n",
       "1              N5069P     Piper  PA24-180            No                1.0   \n",
       "2              N5142R    Cessna      172M            No                1.0   \n",
       "3              N1168J  Rockwell       112            No                1.0   \n",
       "4               N15NY    Cessna       501            No                NaN   \n",
       "\n",
       "     Engine.Type FAR.Description Schedule Purpose.of.flight Air.carrier  \\\n",
       "0  Reciprocating             NaN      NaN          Personal         NaN   \n",
       "1  Reciprocating             NaN      NaN          Personal         NaN   \n",
       "2  Reciprocating             NaN      NaN          Personal         NaN   \n",
       "3  Reciprocating             NaN      NaN          Personal         NaN   \n",
       "4            NaN             NaN      NaN          Personal         NaN   \n",
       "\n",
       "   Total.Fatal.Injuries  Total.Serious.Injuries  Total.Minor.Injuries  \\\n",
       "0                   2.0                     0.0                   0.0   \n",
       "1                   4.0                     0.0                   0.0   \n",
       "2                   3.0                     NaN                   NaN   \n",
       "3                   2.0                     0.0                   0.0   \n",
       "4                   1.0                     2.0                   NaN   \n",
       "\n",
       "   Total.Uninjured Weather.Condition Broad.phase.of.flight   Report.Status  \\\n",
       "0              0.0               UNK                Cruise  Probable Cause   \n",
       "1              0.0               UNK               Unknown  Probable Cause   \n",
       "2              NaN               IMC                Cruise  Probable Cause   \n",
       "3              0.0               IMC                Cruise  Probable Cause   \n",
       "4              0.0               VMC              Approach  Probable Cause   \n",
       "\n",
       "  Publication.Date  \n",
       "0              NaN  \n",
       "1       19-09-1996  \n",
       "2       26-02-2007  \n",
       "3       12-09-2000  \n",
       "4       16-04-1980  "
      ]
     },
     "metadata": {},
     "output_type": "display_data"
    }
   ],
   "source": [
    "# Print a message to indicate the output that follows\n",
    "print(\"First few rows of Aviation Data Frame:\")\n",
    "\n",
    "# Display the first five rows of the aviation DataFrame\n",
    "display(aviation_df.head())"
   ]
  },
  {
   "cell_type": "markdown",
   "metadata": {},
   "source": [
    "> Checking the end of the dataset to spot any anomalies or incomplete rows."
   ]
  },
  {
   "cell_type": "code",
   "execution_count": 5,
   "metadata": {},
   "outputs": [
    {
     "data": {
      "application/vnd.microsoft.datawrangler.viewer.v0+json": {
       "columns": [
        {
         "name": "index",
         "rawType": "int64",
         "type": "integer"
        },
        {
         "name": "Event.Id",
         "rawType": "object",
         "type": "string"
        },
        {
         "name": "Investigation.Type",
         "rawType": "object",
         "type": "string"
        },
        {
         "name": "Accident.Number",
         "rawType": "object",
         "type": "string"
        },
        {
         "name": "Event.Date",
         "rawType": "object",
         "type": "string"
        },
        {
         "name": "Location",
         "rawType": "object",
         "type": "string"
        },
        {
         "name": "Country",
         "rawType": "object",
         "type": "string"
        },
        {
         "name": "Latitude",
         "rawType": "object",
         "type": "unknown"
        },
        {
         "name": "Longitude",
         "rawType": "object",
         "type": "unknown"
        },
        {
         "name": "Airport.Code",
         "rawType": "object",
         "type": "unknown"
        },
        {
         "name": "Airport.Name",
         "rawType": "object",
         "type": "unknown"
        },
        {
         "name": "Injury.Severity",
         "rawType": "object",
         "type": "unknown"
        },
        {
         "name": "Aircraft.damage",
         "rawType": "object",
         "type": "unknown"
        },
        {
         "name": "Aircraft.Category",
         "rawType": "object",
         "type": "unknown"
        },
        {
         "name": "Registration.Number",
         "rawType": "object",
         "type": "string"
        },
        {
         "name": "Make",
         "rawType": "object",
         "type": "string"
        },
        {
         "name": "Model",
         "rawType": "object",
         "type": "string"
        },
        {
         "name": "Amateur.Built",
         "rawType": "object",
         "type": "string"
        },
        {
         "name": "Number.of.Engines",
         "rawType": "float64",
         "type": "float"
        },
        {
         "name": "Engine.Type",
         "rawType": "object",
         "type": "unknown"
        },
        {
         "name": "FAR.Description",
         "rawType": "object",
         "type": "unknown"
        },
        {
         "name": "Schedule",
         "rawType": "object",
         "type": "unknown"
        },
        {
         "name": "Purpose.of.flight",
         "rawType": "object",
         "type": "unknown"
        },
        {
         "name": "Air.carrier",
         "rawType": "object",
         "type": "unknown"
        },
        {
         "name": "Total.Fatal.Injuries",
         "rawType": "float64",
         "type": "float"
        },
        {
         "name": "Total.Serious.Injuries",
         "rawType": "float64",
         "type": "float"
        },
        {
         "name": "Total.Minor.Injuries",
         "rawType": "float64",
         "type": "float"
        },
        {
         "name": "Total.Uninjured",
         "rawType": "float64",
         "type": "float"
        },
        {
         "name": "Weather.Condition",
         "rawType": "object",
         "type": "unknown"
        },
        {
         "name": "Broad.phase.of.flight",
         "rawType": "object",
         "type": "unknown"
        },
        {
         "name": "Report.Status",
         "rawType": "object",
         "type": "unknown"
        },
        {
         "name": "Publication.Date",
         "rawType": "object",
         "type": "unknown"
        }
       ],
       "conversionMethod": "pd.DataFrame",
       "ref": "e4ddb273-a722-4e53-b878-8dd80fe28100",
       "rows": [
        [
         "90343",
         "20221227106491",
         "Accident",
         "ERA23LA093",
         "2022-12-26",
         "Annapolis, MD",
         "United States",
         null,
         null,
         null,
         null,
         "Minor",
         null,
         null,
         "N1867H",
         "PIPER",
         "PA-28-151",
         "No",
         null,
         null,
         "091",
         null,
         "Personal",
         null,
         "0.0",
         "1.0",
         "0.0",
         "0.0",
         null,
         null,
         null,
         "29-12-2022"
        ],
        [
         "90344",
         "20221227106494",
         "Accident",
         "ERA23LA095",
         "2022-12-26",
         "Hampton, NH",
         "United States",
         null,
         null,
         null,
         null,
         null,
         null,
         null,
         "N2895Z",
         "BELLANCA",
         "7ECA",
         "No",
         null,
         null,
         null,
         null,
         null,
         null,
         "0.0",
         "0.0",
         "0.0",
         "0.0",
         null,
         null,
         null,
         null
        ],
        [
         "90345",
         "20221227106497",
         "Accident",
         "WPR23LA075",
         "2022-12-26",
         "Payson, AZ",
         "United States",
         "341525N",
         "1112021W",
         "PAN",
         "PAYSON",
         "Non-Fatal",
         "Substantial",
         "Airplane",
         "N749PJ",
         "AMERICAN CHAMPION AIRCRAFT",
         "8GCBC",
         "No",
         "1.0",
         null,
         "091",
         null,
         "Personal",
         null,
         "0.0",
         "0.0",
         "0.0",
         "1.0",
         "VMC",
         null,
         null,
         "27-12-2022"
        ],
        [
         "90346",
         "20221227106498",
         "Accident",
         "WPR23LA076",
         "2022-12-26",
         "Morgan, UT",
         "United States",
         null,
         null,
         null,
         null,
         null,
         null,
         null,
         "N210CU",
         "CESSNA",
         "210N",
         "No",
         null,
         null,
         "091",
         null,
         "Personal",
         "MC CESSNA 210N LLC",
         "0.0",
         "0.0",
         "0.0",
         "0.0",
         null,
         null,
         null,
         null
        ],
        [
         "90347",
         "20221230106513",
         "Accident",
         "ERA23LA097",
         "2022-12-29",
         "Athens, GA",
         "United States",
         null,
         null,
         null,
         null,
         "Minor",
         null,
         null,
         "N9026P",
         "PIPER",
         "PA-24-260",
         "No",
         null,
         null,
         "091",
         null,
         "Personal",
         null,
         "0.0",
         "1.0",
         "0.0",
         "1.0",
         null,
         null,
         null,
         "30-12-2022"
        ]
       ],
       "shape": {
        "columns": 31,
        "rows": 5
       }
      },
      "text/html": [
       "<div>\n",
       "<style scoped>\n",
       "    .dataframe tbody tr th:only-of-type {\n",
       "        vertical-align: middle;\n",
       "    }\n",
       "\n",
       "    .dataframe tbody tr th {\n",
       "        vertical-align: top;\n",
       "    }\n",
       "\n",
       "    .dataframe thead th {\n",
       "        text-align: right;\n",
       "    }\n",
       "</style>\n",
       "<table border=\"1\" class=\"dataframe\">\n",
       "  <thead>\n",
       "    <tr style=\"text-align: right;\">\n",
       "      <th></th>\n",
       "      <th>Event.Id</th>\n",
       "      <th>Investigation.Type</th>\n",
       "      <th>Accident.Number</th>\n",
       "      <th>Event.Date</th>\n",
       "      <th>Location</th>\n",
       "      <th>Country</th>\n",
       "      <th>Latitude</th>\n",
       "      <th>Longitude</th>\n",
       "      <th>Airport.Code</th>\n",
       "      <th>Airport.Name</th>\n",
       "      <th>Injury.Severity</th>\n",
       "      <th>Aircraft.damage</th>\n",
       "      <th>Aircraft.Category</th>\n",
       "      <th>Registration.Number</th>\n",
       "      <th>Make</th>\n",
       "      <th>Model</th>\n",
       "      <th>Amateur.Built</th>\n",
       "      <th>Number.of.Engines</th>\n",
       "      <th>Engine.Type</th>\n",
       "      <th>FAR.Description</th>\n",
       "      <th>Schedule</th>\n",
       "      <th>Purpose.of.flight</th>\n",
       "      <th>Air.carrier</th>\n",
       "      <th>Total.Fatal.Injuries</th>\n",
       "      <th>Total.Serious.Injuries</th>\n",
       "      <th>Total.Minor.Injuries</th>\n",
       "      <th>Total.Uninjured</th>\n",
       "      <th>Weather.Condition</th>\n",
       "      <th>Broad.phase.of.flight</th>\n",
       "      <th>Report.Status</th>\n",
       "      <th>Publication.Date</th>\n",
       "    </tr>\n",
       "  </thead>\n",
       "  <tbody>\n",
       "    <tr>\n",
       "      <th>90343</th>\n",
       "      <td>20221227106491</td>\n",
       "      <td>Accident</td>\n",
       "      <td>ERA23LA093</td>\n",
       "      <td>2022-12-26</td>\n",
       "      <td>Annapolis, MD</td>\n",
       "      <td>United States</td>\n",
       "      <td>NaN</td>\n",
       "      <td>NaN</td>\n",
       "      <td>NaN</td>\n",
       "      <td>NaN</td>\n",
       "      <td>Minor</td>\n",
       "      <td>NaN</td>\n",
       "      <td>NaN</td>\n",
       "      <td>N1867H</td>\n",
       "      <td>PIPER</td>\n",
       "      <td>PA-28-151</td>\n",
       "      <td>No</td>\n",
       "      <td>NaN</td>\n",
       "      <td>NaN</td>\n",
       "      <td>091</td>\n",
       "      <td>NaN</td>\n",
       "      <td>Personal</td>\n",
       "      <td>NaN</td>\n",
       "      <td>0.0</td>\n",
       "      <td>1.0</td>\n",
       "      <td>0.0</td>\n",
       "      <td>0.0</td>\n",
       "      <td>NaN</td>\n",
       "      <td>NaN</td>\n",
       "      <td>NaN</td>\n",
       "      <td>29-12-2022</td>\n",
       "    </tr>\n",
       "    <tr>\n",
       "      <th>90344</th>\n",
       "      <td>20221227106494</td>\n",
       "      <td>Accident</td>\n",
       "      <td>ERA23LA095</td>\n",
       "      <td>2022-12-26</td>\n",
       "      <td>Hampton, NH</td>\n",
       "      <td>United States</td>\n",
       "      <td>NaN</td>\n",
       "      <td>NaN</td>\n",
       "      <td>NaN</td>\n",
       "      <td>NaN</td>\n",
       "      <td>NaN</td>\n",
       "      <td>NaN</td>\n",
       "      <td>NaN</td>\n",
       "      <td>N2895Z</td>\n",
       "      <td>BELLANCA</td>\n",
       "      <td>7ECA</td>\n",
       "      <td>No</td>\n",
       "      <td>NaN</td>\n",
       "      <td>NaN</td>\n",
       "      <td>NaN</td>\n",
       "      <td>NaN</td>\n",
       "      <td>NaN</td>\n",
       "      <td>NaN</td>\n",
       "      <td>0.0</td>\n",
       "      <td>0.0</td>\n",
       "      <td>0.0</td>\n",
       "      <td>0.0</td>\n",
       "      <td>NaN</td>\n",
       "      <td>NaN</td>\n",
       "      <td>NaN</td>\n",
       "      <td>NaN</td>\n",
       "    </tr>\n",
       "    <tr>\n",
       "      <th>90345</th>\n",
       "      <td>20221227106497</td>\n",
       "      <td>Accident</td>\n",
       "      <td>WPR23LA075</td>\n",
       "      <td>2022-12-26</td>\n",
       "      <td>Payson, AZ</td>\n",
       "      <td>United States</td>\n",
       "      <td>341525N</td>\n",
       "      <td>1112021W</td>\n",
       "      <td>PAN</td>\n",
       "      <td>PAYSON</td>\n",
       "      <td>Non-Fatal</td>\n",
       "      <td>Substantial</td>\n",
       "      <td>Airplane</td>\n",
       "      <td>N749PJ</td>\n",
       "      <td>AMERICAN CHAMPION AIRCRAFT</td>\n",
       "      <td>8GCBC</td>\n",
       "      <td>No</td>\n",
       "      <td>1.0</td>\n",
       "      <td>NaN</td>\n",
       "      <td>091</td>\n",
       "      <td>NaN</td>\n",
       "      <td>Personal</td>\n",
       "      <td>NaN</td>\n",
       "      <td>0.0</td>\n",
       "      <td>0.0</td>\n",
       "      <td>0.0</td>\n",
       "      <td>1.0</td>\n",
       "      <td>VMC</td>\n",
       "      <td>NaN</td>\n",
       "      <td>NaN</td>\n",
       "      <td>27-12-2022</td>\n",
       "    </tr>\n",
       "    <tr>\n",
       "      <th>90346</th>\n",
       "      <td>20221227106498</td>\n",
       "      <td>Accident</td>\n",
       "      <td>WPR23LA076</td>\n",
       "      <td>2022-12-26</td>\n",
       "      <td>Morgan, UT</td>\n",
       "      <td>United States</td>\n",
       "      <td>NaN</td>\n",
       "      <td>NaN</td>\n",
       "      <td>NaN</td>\n",
       "      <td>NaN</td>\n",
       "      <td>NaN</td>\n",
       "      <td>NaN</td>\n",
       "      <td>NaN</td>\n",
       "      <td>N210CU</td>\n",
       "      <td>CESSNA</td>\n",
       "      <td>210N</td>\n",
       "      <td>No</td>\n",
       "      <td>NaN</td>\n",
       "      <td>NaN</td>\n",
       "      <td>091</td>\n",
       "      <td>NaN</td>\n",
       "      <td>Personal</td>\n",
       "      <td>MC CESSNA 210N LLC</td>\n",
       "      <td>0.0</td>\n",
       "      <td>0.0</td>\n",
       "      <td>0.0</td>\n",
       "      <td>0.0</td>\n",
       "      <td>NaN</td>\n",
       "      <td>NaN</td>\n",
       "      <td>NaN</td>\n",
       "      <td>NaN</td>\n",
       "    </tr>\n",
       "    <tr>\n",
       "      <th>90347</th>\n",
       "      <td>20221230106513</td>\n",
       "      <td>Accident</td>\n",
       "      <td>ERA23LA097</td>\n",
       "      <td>2022-12-29</td>\n",
       "      <td>Athens, GA</td>\n",
       "      <td>United States</td>\n",
       "      <td>NaN</td>\n",
       "      <td>NaN</td>\n",
       "      <td>NaN</td>\n",
       "      <td>NaN</td>\n",
       "      <td>Minor</td>\n",
       "      <td>NaN</td>\n",
       "      <td>NaN</td>\n",
       "      <td>N9026P</td>\n",
       "      <td>PIPER</td>\n",
       "      <td>PA-24-260</td>\n",
       "      <td>No</td>\n",
       "      <td>NaN</td>\n",
       "      <td>NaN</td>\n",
       "      <td>091</td>\n",
       "      <td>NaN</td>\n",
       "      <td>Personal</td>\n",
       "      <td>NaN</td>\n",
       "      <td>0.0</td>\n",
       "      <td>1.0</td>\n",
       "      <td>0.0</td>\n",
       "      <td>1.0</td>\n",
       "      <td>NaN</td>\n",
       "      <td>NaN</td>\n",
       "      <td>NaN</td>\n",
       "      <td>30-12-2022</td>\n",
       "    </tr>\n",
       "  </tbody>\n",
       "</table>\n",
       "</div>"
      ],
      "text/plain": [
       "             Event.Id Investigation.Type Accident.Number  Event.Date  \\\n",
       "90343  20221227106491           Accident      ERA23LA093  2022-12-26   \n",
       "90344  20221227106494           Accident      ERA23LA095  2022-12-26   \n",
       "90345  20221227106497           Accident      WPR23LA075  2022-12-26   \n",
       "90346  20221227106498           Accident      WPR23LA076  2022-12-26   \n",
       "90347  20221230106513           Accident      ERA23LA097  2022-12-29   \n",
       "\n",
       "            Location        Country Latitude Longitude Airport.Code  \\\n",
       "90343  Annapolis, MD  United States      NaN       NaN          NaN   \n",
       "90344    Hampton, NH  United States      NaN       NaN          NaN   \n",
       "90345     Payson, AZ  United States  341525N  1112021W          PAN   \n",
       "90346     Morgan, UT  United States      NaN       NaN          NaN   \n",
       "90347     Athens, GA  United States      NaN       NaN          NaN   \n",
       "\n",
       "      Airport.Name Injury.Severity Aircraft.damage Aircraft.Category  \\\n",
       "90343          NaN           Minor             NaN               NaN   \n",
       "90344          NaN             NaN             NaN               NaN   \n",
       "90345       PAYSON       Non-Fatal     Substantial          Airplane   \n",
       "90346          NaN             NaN             NaN               NaN   \n",
       "90347          NaN           Minor             NaN               NaN   \n",
       "\n",
       "      Registration.Number                        Make      Model  \\\n",
       "90343              N1867H                       PIPER  PA-28-151   \n",
       "90344              N2895Z                    BELLANCA       7ECA   \n",
       "90345              N749PJ  AMERICAN CHAMPION AIRCRAFT      8GCBC   \n",
       "90346              N210CU                      CESSNA       210N   \n",
       "90347              N9026P                       PIPER  PA-24-260   \n",
       "\n",
       "      Amateur.Built  Number.of.Engines Engine.Type FAR.Description Schedule  \\\n",
       "90343            No                NaN         NaN             091      NaN   \n",
       "90344            No                NaN         NaN             NaN      NaN   \n",
       "90345            No                1.0         NaN             091      NaN   \n",
       "90346            No                NaN         NaN             091      NaN   \n",
       "90347            No                NaN         NaN             091      NaN   \n",
       "\n",
       "      Purpose.of.flight         Air.carrier  Total.Fatal.Injuries  \\\n",
       "90343          Personal                 NaN                   0.0   \n",
       "90344               NaN                 NaN                   0.0   \n",
       "90345          Personal                 NaN                   0.0   \n",
       "90346          Personal  MC CESSNA 210N LLC                   0.0   \n",
       "90347          Personal                 NaN                   0.0   \n",
       "\n",
       "       Total.Serious.Injuries  Total.Minor.Injuries  Total.Uninjured  \\\n",
       "90343                     1.0                   0.0              0.0   \n",
       "90344                     0.0                   0.0              0.0   \n",
       "90345                     0.0                   0.0              1.0   \n",
       "90346                     0.0                   0.0              0.0   \n",
       "90347                     1.0                   0.0              1.0   \n",
       "\n",
       "      Weather.Condition Broad.phase.of.flight Report.Status Publication.Date  \n",
       "90343               NaN                   NaN           NaN       29-12-2022  \n",
       "90344               NaN                   NaN           NaN              NaN  \n",
       "90345               VMC                   NaN           NaN       27-12-2022  \n",
       "90346               NaN                   NaN           NaN              NaN  \n",
       "90347               NaN                   NaN           NaN       30-12-2022  "
      ]
     },
     "execution_count": 5,
     "metadata": {},
     "output_type": "execute_result"
    }
   ],
   "source": [
    "# Display the last five rows of the aviation DataFrame\n",
    "aviation_df.tail()"
   ]
  },
  {
   "cell_type": "markdown",
   "metadata": {},
   "source": [
    "> I will next Display a concise summary of the DataFrame to identifying missing data and understanding the structure of the dataset."
   ]
  },
  {
   "cell_type": "code",
   "execution_count": 6,
   "metadata": {},
   "outputs": [
    {
     "name": "stdout",
     "output_type": "stream",
     "text": [
      "<class 'pandas.core.frame.DataFrame'>\n",
      "RangeIndex: 90348 entries, 0 to 90347\n",
      "Data columns (total 31 columns):\n",
      " #   Column                  Non-Null Count  Dtype  \n",
      "---  ------                  --------------  -----  \n",
      " 0   Event.Id                88889 non-null  object \n",
      " 1   Investigation.Type      90348 non-null  object \n",
      " 2   Accident.Number         88889 non-null  object \n",
      " 3   Event.Date              88889 non-null  object \n",
      " 4   Location                88837 non-null  object \n",
      " 5   Country                 88663 non-null  object \n",
      " 6   Latitude                34382 non-null  object \n",
      " 7   Longitude               34373 non-null  object \n",
      " 8   Airport.Code            50132 non-null  object \n",
      " 9   Airport.Name            52704 non-null  object \n",
      " 10  Injury.Severity         87889 non-null  object \n",
      " 11  Aircraft.damage         85695 non-null  object \n",
      " 12  Aircraft.Category       32287 non-null  object \n",
      " 13  Registration.Number     87507 non-null  object \n",
      " 14  Make                    88826 non-null  object \n",
      " 15  Model                   88797 non-null  object \n",
      " 16  Amateur.Built           88787 non-null  object \n",
      " 17  Number.of.Engines       82805 non-null  float64\n",
      " 18  Engine.Type             81793 non-null  object \n",
      " 19  FAR.Description         32023 non-null  object \n",
      " 20  Schedule                12582 non-null  object \n",
      " 21  Purpose.of.flight       82697 non-null  object \n",
      " 22  Air.carrier             16648 non-null  object \n",
      " 23  Total.Fatal.Injuries    77488 non-null  float64\n",
      " 24  Total.Serious.Injuries  76379 non-null  float64\n",
      " 25  Total.Minor.Injuries    76956 non-null  float64\n",
      " 26  Total.Uninjured         82977 non-null  float64\n",
      " 27  Weather.Condition       84397 non-null  object \n",
      " 28  Broad.phase.of.flight   61724 non-null  object \n",
      " 29  Report.Status           82505 non-null  object \n",
      " 30  Publication.Date        73659 non-null  object \n",
      "dtypes: float64(5), object(26)\n",
      "memory usage: 21.4+ MB\n"
     ]
    }
   ],
   "source": [
    "# Info summary: data types, non-null counts\n",
    "aviation_df.info()"
   ]
  },
  {
   "cell_type": "markdown",
   "metadata": {},
   "source": [
    "- The dataset contains **90,348 rows** and **31 columns**.\n",
    "- Most columns are of type `object`, with only 5 numerical (`float64`) columns.\n",
    "- A significant number of **missing values** is present in many fields, especially:\n",
    "  - `Latitude`, `Longitude`, `Aircraft.Category`, `FAR.Description`, `Schedule`, `Air.carrier`, `Broad.phase.of.flight`\n",
    "- Some columns such as `Event.Date` and `Publication.Date` are still stored as **object** types and may need conversion to `datetime` for temporal analysis.\n",
    "- Column names contain **dots (.)** "
   ]
  },
  {
   "cell_type": "markdown",
   "metadata": {},
   "source": [
    "#### **2.4. Check for Missing Values**\n",
    "Understand the completeness of the dataset and identify columns that require attention."
   ]
  },
  {
   "cell_type": "code",
   "execution_count": 7,
   "metadata": {},
   "outputs": [],
   "source": [
    "# Calculate the total number of rows in the DataFrame\n",
    "# This will be used to compare against non-null counts to identify missing values\n",
    "total_rows = len(aviation_df)"
   ]
  },
  {
   "cell_type": "code",
   "execution_count": 8,
   "metadata": {},
   "outputs": [],
   "source": [
    "# Identify columns that have no missing values (i.e., number of non-null entries equals total rows)\n",
    "no_missing_cols = aviation_df.columns[aviation_df.notnull().sum() == total_rows]"
   ]
  },
  {
   "cell_type": "code",
   "execution_count": 9,
   "metadata": {},
   "outputs": [
    {
     "name": "stdout",
     "output_type": "stream",
     "text": [
      "Columns with no missing values (1):\n",
      "['Investigation.Type']\n"
     ]
    }
   ],
   "source": [
    "# Print the number of columns with complete data and their names\n",
    "print(f\"Columns with no missing values ({len(no_missing_cols)}):\")\n",
    "print(no_missing_cols.tolist())"
   ]
  },
  {
   "cell_type": "markdown",
   "metadata": {},
   "source": [
    "Only One column has no missing value `Investigation.Type`"
   ]
  },
  {
   "cell_type": "markdown",
   "metadata": {},
   "source": [
    "> **Identify columns that contain missing values**"
   ]
  },
  {
   "cell_type": "code",
   "execution_count": 10,
   "metadata": {},
   "outputs": [
    {
     "name": "stdout",
     "output_type": "stream",
     "text": [
      "Missing values per column:\n",
      "Event.Id                   1459\n",
      "Accident.Number            1459\n",
      "Event.Date                 1459\n",
      "Location                   1511\n",
      "Country                    1685\n",
      "Latitude                  55966\n",
      "Longitude                 55975\n",
      "Airport.Code              40216\n",
      "Airport.Name              37644\n",
      "Injury.Severity            2459\n",
      "Aircraft.damage            4653\n",
      "Aircraft.Category         58061\n",
      "Registration.Number        2841\n",
      "Make                       1522\n",
      "Model                      1551\n",
      "Amateur.Built              1561\n",
      "Number.of.Engines          7543\n",
      "Engine.Type                8555\n",
      "FAR.Description           58325\n",
      "Schedule                  77766\n",
      "Purpose.of.flight          7651\n",
      "Air.carrier               73700\n",
      "Total.Fatal.Injuries      12860\n",
      "Total.Serious.Injuries    13969\n",
      "Total.Minor.Injuries      13392\n",
      "Total.Uninjured            7371\n",
      "Weather.Condition          5951\n",
      "Broad.phase.of.flight     28624\n",
      "Report.Status              7843\n",
      "Publication.Date          16689\n",
      "dtype: int64\n"
     ]
    }
   ],
   "source": [
    "# Compute the total number of missing (null) values for each column\n",
    "missing_summary = aviation_df.isnull().sum()\n",
    "\n",
    "# Filter to only include columns where the number of missing values is greater than zero\n",
    "missing_summary = missing_summary[missing_summary > 0]\n",
    "\n",
    "# Print a summary showing how many values are missing in each affected column\n",
    "print(\"Missing values per column:\")\n",
    "print(missing_summary)\n",
    "\n"
   ]
  },
  {
   "cell_type": "markdown",
   "metadata": {},
   "source": [
    "#### **2.5. Summary Statistics**\n",
    "\n",
    "> Check basic statistics for numeric and categorical data to understand distribution and outliers."
   ]
  },
  {
   "cell_type": "markdown",
   "metadata": {},
   "source": [
    "> **Summary statistics for categorical (object-type) columns**\n",
    "\n",
    "- Useful for understanding distributions and spotting potential data quality issues in categorical fields"
   ]
  },
  {
   "cell_type": "code",
   "execution_count": 11,
   "metadata": {},
   "outputs": [
    {
     "data": {
      "application/vnd.microsoft.datawrangler.viewer.v0+json": {
       "columns": [
        {
         "name": "index",
         "rawType": "object",
         "type": "string"
        },
        {
         "name": "Event.Id",
         "rawType": "object",
         "type": "unknown"
        },
        {
         "name": "Investigation.Type",
         "rawType": "object",
         "type": "unknown"
        },
        {
         "name": "Accident.Number",
         "rawType": "object",
         "type": "unknown"
        },
        {
         "name": "Event.Date",
         "rawType": "object",
         "type": "unknown"
        },
        {
         "name": "Location",
         "rawType": "object",
         "type": "unknown"
        },
        {
         "name": "Country",
         "rawType": "object",
         "type": "unknown"
        },
        {
         "name": "Latitude",
         "rawType": "object",
         "type": "unknown"
        },
        {
         "name": "Longitude",
         "rawType": "object",
         "type": "unknown"
        },
        {
         "name": "Airport.Code",
         "rawType": "object",
         "type": "unknown"
        },
        {
         "name": "Airport.Name",
         "rawType": "object",
         "type": "unknown"
        },
        {
         "name": "Injury.Severity",
         "rawType": "object",
         "type": "unknown"
        },
        {
         "name": "Aircraft.damage",
         "rawType": "object",
         "type": "unknown"
        },
        {
         "name": "Aircraft.Category",
         "rawType": "object",
         "type": "unknown"
        },
        {
         "name": "Registration.Number",
         "rawType": "object",
         "type": "unknown"
        },
        {
         "name": "Make",
         "rawType": "object",
         "type": "unknown"
        },
        {
         "name": "Model",
         "rawType": "object",
         "type": "unknown"
        },
        {
         "name": "Amateur.Built",
         "rawType": "object",
         "type": "unknown"
        },
        {
         "name": "Engine.Type",
         "rawType": "object",
         "type": "unknown"
        },
        {
         "name": "FAR.Description",
         "rawType": "object",
         "type": "unknown"
        },
        {
         "name": "Schedule",
         "rawType": "object",
         "type": "unknown"
        },
        {
         "name": "Purpose.of.flight",
         "rawType": "object",
         "type": "unknown"
        },
        {
         "name": "Air.carrier",
         "rawType": "object",
         "type": "unknown"
        },
        {
         "name": "Weather.Condition",
         "rawType": "object",
         "type": "unknown"
        },
        {
         "name": "Broad.phase.of.flight",
         "rawType": "object",
         "type": "unknown"
        },
        {
         "name": "Report.Status",
         "rawType": "object",
         "type": "unknown"
        },
        {
         "name": "Publication.Date",
         "rawType": "object",
         "type": "unknown"
        }
       ],
       "conversionMethod": "pd.DataFrame",
       "ref": "3f4d2420-3e8f-49d7-830e-e51754ba08d8",
       "rows": [
        [
         "count",
         "88889",
         "90348",
         "88889",
         "88889",
         "88837",
         "88663",
         "34382",
         "34373",
         "50132",
         "52704",
         "87889",
         "85695",
         "32287",
         "87507",
         "88826",
         "88797",
         "88787",
         "81793",
         "32023",
         "12582",
         "82697",
         "16648",
         "84397",
         "61724",
         "82505",
         "73659"
        ],
        [
         "unique",
         "87951",
         "71",
         "88863",
         "14782",
         "27758",
         "219",
         "25592",
         "27156",
         "10374",
         "24870",
         "109",
         "4",
         "15",
         "79104",
         "8237",
         "12318",
         "2",
         "12",
         "31",
         "3",
         "26",
         "13590",
         "4",
         "12",
         "17006",
         "2923"
        ],
        [
         "top",
         "20001214X45071",
         "Accident",
         "WPR23LA045",
         "1982-05-16",
         "ANCHORAGE, AK",
         "United States",
         "332739N",
         "0112457W",
         "NONE",
         "Private",
         "Non-Fatal",
         "Substantial",
         "Airplane",
         "NONE",
         "Cessna",
         "152",
         "No",
         "Reciprocating",
         "091",
         "NSCH",
         "Personal",
         "Pilot",
         "VMC",
         "Landing",
         "Probable Cause",
         "25-09-2020"
        ],
        [
         "freq",
         "3",
         "85015",
         "2",
         "25",
         "434",
         "82248",
         "19",
         "24",
         "1488",
         "240",
         "67357",
         "64148",
         "27617",
         "344",
         "22227",
         "2367",
         "80312",
         "69530",
         "18221",
         "4474",
         "49448",
         "258",
         "77303",
         "15428",
         "61754",
         "16317"
        ]
       ],
       "shape": {
        "columns": 26,
        "rows": 4
       }
      },
      "text/html": [
       "<div>\n",
       "<style scoped>\n",
       "    .dataframe tbody tr th:only-of-type {\n",
       "        vertical-align: middle;\n",
       "    }\n",
       "\n",
       "    .dataframe tbody tr th {\n",
       "        vertical-align: top;\n",
       "    }\n",
       "\n",
       "    .dataframe thead th {\n",
       "        text-align: right;\n",
       "    }\n",
       "</style>\n",
       "<table border=\"1\" class=\"dataframe\">\n",
       "  <thead>\n",
       "    <tr style=\"text-align: right;\">\n",
       "      <th></th>\n",
       "      <th>Event.Id</th>\n",
       "      <th>Investigation.Type</th>\n",
       "      <th>Accident.Number</th>\n",
       "      <th>Event.Date</th>\n",
       "      <th>Location</th>\n",
       "      <th>Country</th>\n",
       "      <th>Latitude</th>\n",
       "      <th>Longitude</th>\n",
       "      <th>Airport.Code</th>\n",
       "      <th>Airport.Name</th>\n",
       "      <th>Injury.Severity</th>\n",
       "      <th>Aircraft.damage</th>\n",
       "      <th>Aircraft.Category</th>\n",
       "      <th>Registration.Number</th>\n",
       "      <th>Make</th>\n",
       "      <th>Model</th>\n",
       "      <th>Amateur.Built</th>\n",
       "      <th>Engine.Type</th>\n",
       "      <th>FAR.Description</th>\n",
       "      <th>Schedule</th>\n",
       "      <th>Purpose.of.flight</th>\n",
       "      <th>Air.carrier</th>\n",
       "      <th>Weather.Condition</th>\n",
       "      <th>Broad.phase.of.flight</th>\n",
       "      <th>Report.Status</th>\n",
       "      <th>Publication.Date</th>\n",
       "    </tr>\n",
       "  </thead>\n",
       "  <tbody>\n",
       "    <tr>\n",
       "      <th>count</th>\n",
       "      <td>88889</td>\n",
       "      <td>90348</td>\n",
       "      <td>88889</td>\n",
       "      <td>88889</td>\n",
       "      <td>88837</td>\n",
       "      <td>88663</td>\n",
       "      <td>34382</td>\n",
       "      <td>34373</td>\n",
       "      <td>50132</td>\n",
       "      <td>52704</td>\n",
       "      <td>87889</td>\n",
       "      <td>85695</td>\n",
       "      <td>32287</td>\n",
       "      <td>87507</td>\n",
       "      <td>88826</td>\n",
       "      <td>88797</td>\n",
       "      <td>88787</td>\n",
       "      <td>81793</td>\n",
       "      <td>32023</td>\n",
       "      <td>12582</td>\n",
       "      <td>82697</td>\n",
       "      <td>16648</td>\n",
       "      <td>84397</td>\n",
       "      <td>61724</td>\n",
       "      <td>82505</td>\n",
       "      <td>73659</td>\n",
       "    </tr>\n",
       "    <tr>\n",
       "      <th>unique</th>\n",
       "      <td>87951</td>\n",
       "      <td>71</td>\n",
       "      <td>88863</td>\n",
       "      <td>14782</td>\n",
       "      <td>27758</td>\n",
       "      <td>219</td>\n",
       "      <td>25592</td>\n",
       "      <td>27156</td>\n",
       "      <td>10374</td>\n",
       "      <td>24870</td>\n",
       "      <td>109</td>\n",
       "      <td>4</td>\n",
       "      <td>15</td>\n",
       "      <td>79104</td>\n",
       "      <td>8237</td>\n",
       "      <td>12318</td>\n",
       "      <td>2</td>\n",
       "      <td>12</td>\n",
       "      <td>31</td>\n",
       "      <td>3</td>\n",
       "      <td>26</td>\n",
       "      <td>13590</td>\n",
       "      <td>4</td>\n",
       "      <td>12</td>\n",
       "      <td>17006</td>\n",
       "      <td>2923</td>\n",
       "    </tr>\n",
       "    <tr>\n",
       "      <th>top</th>\n",
       "      <td>20001214X45071</td>\n",
       "      <td>Accident</td>\n",
       "      <td>WPR23LA045</td>\n",
       "      <td>1982-05-16</td>\n",
       "      <td>ANCHORAGE, AK</td>\n",
       "      <td>United States</td>\n",
       "      <td>332739N</td>\n",
       "      <td>0112457W</td>\n",
       "      <td>NONE</td>\n",
       "      <td>Private</td>\n",
       "      <td>Non-Fatal</td>\n",
       "      <td>Substantial</td>\n",
       "      <td>Airplane</td>\n",
       "      <td>NONE</td>\n",
       "      <td>Cessna</td>\n",
       "      <td>152</td>\n",
       "      <td>No</td>\n",
       "      <td>Reciprocating</td>\n",
       "      <td>091</td>\n",
       "      <td>NSCH</td>\n",
       "      <td>Personal</td>\n",
       "      <td>Pilot</td>\n",
       "      <td>VMC</td>\n",
       "      <td>Landing</td>\n",
       "      <td>Probable Cause</td>\n",
       "      <td>25-09-2020</td>\n",
       "    </tr>\n",
       "    <tr>\n",
       "      <th>freq</th>\n",
       "      <td>3</td>\n",
       "      <td>85015</td>\n",
       "      <td>2</td>\n",
       "      <td>25</td>\n",
       "      <td>434</td>\n",
       "      <td>82248</td>\n",
       "      <td>19</td>\n",
       "      <td>24</td>\n",
       "      <td>1488</td>\n",
       "      <td>240</td>\n",
       "      <td>67357</td>\n",
       "      <td>64148</td>\n",
       "      <td>27617</td>\n",
       "      <td>344</td>\n",
       "      <td>22227</td>\n",
       "      <td>2367</td>\n",
       "      <td>80312</td>\n",
       "      <td>69530</td>\n",
       "      <td>18221</td>\n",
       "      <td>4474</td>\n",
       "      <td>49448</td>\n",
       "      <td>258</td>\n",
       "      <td>77303</td>\n",
       "      <td>15428</td>\n",
       "      <td>61754</td>\n",
       "      <td>16317</td>\n",
       "    </tr>\n",
       "  </tbody>\n",
       "</table>\n",
       "</div>"
      ],
      "text/plain": [
       "              Event.Id Investigation.Type Accident.Number  Event.Date  \\\n",
       "count            88889              90348           88889       88889   \n",
       "unique           87951                 71           88863       14782   \n",
       "top     20001214X45071           Accident      WPR23LA045  1982-05-16   \n",
       "freq                 3              85015               2          25   \n",
       "\n",
       "             Location        Country Latitude Longitude Airport.Code  \\\n",
       "count           88837          88663    34382     34373        50132   \n",
       "unique          27758            219    25592     27156        10374   \n",
       "top     ANCHORAGE, AK  United States  332739N  0112457W         NONE   \n",
       "freq              434          82248       19        24         1488   \n",
       "\n",
       "       Airport.Name Injury.Severity Aircraft.damage Aircraft.Category  \\\n",
       "count         52704           87889           85695             32287   \n",
       "unique        24870             109               4                15   \n",
       "top         Private       Non-Fatal     Substantial          Airplane   \n",
       "freq            240           67357           64148             27617   \n",
       "\n",
       "       Registration.Number    Make  Model Amateur.Built    Engine.Type  \\\n",
       "count                87507   88826  88797         88787          81793   \n",
       "unique               79104    8237  12318             2             12   \n",
       "top                   NONE  Cessna    152            No  Reciprocating   \n",
       "freq                   344   22227   2367         80312          69530   \n",
       "\n",
       "       FAR.Description Schedule Purpose.of.flight Air.carrier  \\\n",
       "count            32023    12582             82697       16648   \n",
       "unique              31        3                26       13590   \n",
       "top                091     NSCH          Personal       Pilot   \n",
       "freq             18221     4474             49448         258   \n",
       "\n",
       "       Weather.Condition Broad.phase.of.flight   Report.Status  \\\n",
       "count              84397                 61724           82505   \n",
       "unique                 4                    12           17006   \n",
       "top                  VMC               Landing  Probable Cause   \n",
       "freq               77303                 15428           61754   \n",
       "\n",
       "       Publication.Date  \n",
       "count             73659  \n",
       "unique             2923  \n",
       "top          25-09-2020  \n",
       "freq              16317  "
      ]
     },
     "metadata": {},
     "output_type": "display_data"
    }
   ],
   "source": [
    "# Display summary statistics for categorical (object-type) columns\n",
    "display(aviation_df.describe(include='object'))\n"
   ]
  },
  {
   "cell_type": "markdown",
   "metadata": {},
   "source": [
    "- **Event IDs** and **Accident Numbers** are mostly unique with some repetition (mostly 2-3 occurrences).\n",
    "- The **Investigation Type** mostly contains the category \"Accident.\"\n",
    "- **Location**, **Country**, and **Airport** data shows a mix of common entries, with many \"NONE\" values for fields like **Airport.Code** and **Registration.Number**.\n",
    "- The **Aircraft.damage** field is dominated by \"Substantial\" damage.\n",
    "- **Injury Severity** and **Purpose of Flight** are heavily skewed toward non-fatal outcomes and personal use.\n",
    "- **Engine Type**, **Aircraft Category**, and **Weather Condition** show a variety of unique values, with \"Reciprocating\" engines and \"Airplane\" as the most common categories.\n",
    "\n"
   ]
  },
  {
   "cell_type": "markdown",
   "metadata": {},
   "source": [
    "> **Summary statistics for numerical columns**\n",
    "\n",
    "- Helpful for understanding the range, central tendency, and distribution of numeric data"
   ]
  },
  {
   "cell_type": "code",
   "execution_count": 12,
   "metadata": {},
   "outputs": [
    {
     "data": {
      "application/vnd.microsoft.datawrangler.viewer.v0+json": {
       "columns": [
        {
         "name": "index",
         "rawType": "object",
         "type": "string"
        },
        {
         "name": "Number.of.Engines",
         "rawType": "float64",
         "type": "float"
        },
        {
         "name": "Total.Fatal.Injuries",
         "rawType": "float64",
         "type": "float"
        },
        {
         "name": "Total.Serious.Injuries",
         "rawType": "float64",
         "type": "float"
        },
        {
         "name": "Total.Minor.Injuries",
         "rawType": "float64",
         "type": "float"
        },
        {
         "name": "Total.Uninjured",
         "rawType": "float64",
         "type": "float"
        }
       ],
       "conversionMethod": "pd.DataFrame",
       "ref": "a6ec4b84-d9d6-42c9-b51a-ed92e0f757a0",
       "rows": [
        [
         "count",
         "82805.0",
         "77488.0",
         "76379.0",
         "76956.0",
         "82977.0"
        ],
        [
         "mean",
         "1.1465853511261397",
         "0.6478551517654346",
         "0.27988059545162935",
         "0.3570611778158948",
         "5.325439579642552"
        ],
        [
         "std",
         "0.4465102138196286",
         "5.485960107559197",
         "1.5440836452335867",
         "2.235625319656934",
         "27.913634431008564"
        ],
        [
         "min",
         "0.0",
         "0.0",
         "0.0",
         "0.0",
         "0.0"
        ],
        [
         "25%",
         "1.0",
         "0.0",
         "0.0",
         "0.0",
         "0.0"
        ],
        [
         "50%",
         "1.0",
         "0.0",
         "0.0",
         "0.0",
         "1.0"
        ],
        [
         "75%",
         "1.0",
         "0.0",
         "0.0",
         "0.0",
         "2.0"
        ],
        [
         "max",
         "8.0",
         "349.0",
         "161.0",
         "380.0",
         "699.0"
        ]
       ],
       "shape": {
        "columns": 5,
        "rows": 8
       }
      },
      "text/html": [
       "<div>\n",
       "<style scoped>\n",
       "    .dataframe tbody tr th:only-of-type {\n",
       "        vertical-align: middle;\n",
       "    }\n",
       "\n",
       "    .dataframe tbody tr th {\n",
       "        vertical-align: top;\n",
       "    }\n",
       "\n",
       "    .dataframe thead th {\n",
       "        text-align: right;\n",
       "    }\n",
       "</style>\n",
       "<table border=\"1\" class=\"dataframe\">\n",
       "  <thead>\n",
       "    <tr style=\"text-align: right;\">\n",
       "      <th></th>\n",
       "      <th>Number.of.Engines</th>\n",
       "      <th>Total.Fatal.Injuries</th>\n",
       "      <th>Total.Serious.Injuries</th>\n",
       "      <th>Total.Minor.Injuries</th>\n",
       "      <th>Total.Uninjured</th>\n",
       "    </tr>\n",
       "  </thead>\n",
       "  <tbody>\n",
       "    <tr>\n",
       "      <th>count</th>\n",
       "      <td>82805.000000</td>\n",
       "      <td>77488.000000</td>\n",
       "      <td>76379.000000</td>\n",
       "      <td>76956.000000</td>\n",
       "      <td>82977.000000</td>\n",
       "    </tr>\n",
       "    <tr>\n",
       "      <th>mean</th>\n",
       "      <td>1.146585</td>\n",
       "      <td>0.647855</td>\n",
       "      <td>0.279881</td>\n",
       "      <td>0.357061</td>\n",
       "      <td>5.325440</td>\n",
       "    </tr>\n",
       "    <tr>\n",
       "      <th>std</th>\n",
       "      <td>0.446510</td>\n",
       "      <td>5.485960</td>\n",
       "      <td>1.544084</td>\n",
       "      <td>2.235625</td>\n",
       "      <td>27.913634</td>\n",
       "    </tr>\n",
       "    <tr>\n",
       "      <th>min</th>\n",
       "      <td>0.000000</td>\n",
       "      <td>0.000000</td>\n",
       "      <td>0.000000</td>\n",
       "      <td>0.000000</td>\n",
       "      <td>0.000000</td>\n",
       "    </tr>\n",
       "    <tr>\n",
       "      <th>25%</th>\n",
       "      <td>1.000000</td>\n",
       "      <td>0.000000</td>\n",
       "      <td>0.000000</td>\n",
       "      <td>0.000000</td>\n",
       "      <td>0.000000</td>\n",
       "    </tr>\n",
       "    <tr>\n",
       "      <th>50%</th>\n",
       "      <td>1.000000</td>\n",
       "      <td>0.000000</td>\n",
       "      <td>0.000000</td>\n",
       "      <td>0.000000</td>\n",
       "      <td>1.000000</td>\n",
       "    </tr>\n",
       "    <tr>\n",
       "      <th>75%</th>\n",
       "      <td>1.000000</td>\n",
       "      <td>0.000000</td>\n",
       "      <td>0.000000</td>\n",
       "      <td>0.000000</td>\n",
       "      <td>2.000000</td>\n",
       "    </tr>\n",
       "    <tr>\n",
       "      <th>max</th>\n",
       "      <td>8.000000</td>\n",
       "      <td>349.000000</td>\n",
       "      <td>161.000000</td>\n",
       "      <td>380.000000</td>\n",
       "      <td>699.000000</td>\n",
       "    </tr>\n",
       "  </tbody>\n",
       "</table>\n",
       "</div>"
      ],
      "text/plain": [
       "       Number.of.Engines  Total.Fatal.Injuries  Total.Serious.Injuries  \\\n",
       "count       82805.000000          77488.000000            76379.000000   \n",
       "mean            1.146585              0.647855                0.279881   \n",
       "std             0.446510              5.485960                1.544084   \n",
       "min             0.000000              0.000000                0.000000   \n",
       "25%             1.000000              0.000000                0.000000   \n",
       "50%             1.000000              0.000000                0.000000   \n",
       "75%             1.000000              0.000000                0.000000   \n",
       "max             8.000000            349.000000              161.000000   \n",
       "\n",
       "       Total.Minor.Injuries  Total.Uninjured  \n",
       "count          76956.000000     82977.000000  \n",
       "mean               0.357061         5.325440  \n",
       "std                2.235625        27.913634  \n",
       "min                0.000000         0.000000  \n",
       "25%                0.000000         0.000000  \n",
       "50%                0.000000         1.000000  \n",
       "75%                0.000000         2.000000  \n",
       "max              380.000000       699.000000  "
      ]
     },
     "metadata": {},
     "output_type": "display_data"
    }
   ],
   "source": [
    "# Display summary statistics for numerical columns in the DataFrame\n",
    "display(aviation_df.describe())\n"
   ]
  },
  {
   "cell_type": "markdown",
   "metadata": {},
   "source": [
    "- Most incidents have low values for injuries (fatal, serious, or minor), and the majority of incidents have no fatalities or injuries.\n",
    "- The dataset contains outliers, such as a large number of fatalities or uninjured individuals in rare incidents, which may require further investigation or cleaning.\n",
    "\n",
    "- The majority of the incidents in the dataset involve **single-engine aircraft**, however, there are incidents involving larger, multi-engine aircraft.\n"
   ]
  },
  {
   "cell_type": "markdown",
   "metadata": {},
   "source": [
    "#### **2.6. Explore Key Categorical Columns**\n",
    "\n",
    "Look into value distributions, unique values, and missing values for important features."
   ]
  },
  {
   "cell_type": "code",
   "execution_count": 13,
   "metadata": {},
   "outputs": [
    {
     "name": "stdout",
     "output_type": "stream",
     "text": [
      "\n",
      "--- Event.Date ---\n",
      "Unique values: ['1948-10-24' '1962-07-19' '1974-08-30' ... '2022-12-22' '2022-12-26'\n",
      " '2022-12-29']\n",
      "Value counts:\n",
      " Event.Date\n",
      "NaN           1459\n",
      "1984-06-30      25\n",
      "1982-05-16      25\n",
      "2000-07-08      25\n",
      "1984-08-25      24\n",
      "              ... \n",
      "1992-03-17       1\n",
      "1992-03-30       1\n",
      "2022-12-29       1\n",
      "1948-10-24       1\n",
      "2022-12-22       1\n",
      "Name: count, Length: 14783, dtype: int64\n",
      "Missing values: 1459\n",
      "\n",
      "--- Investigation.Type ---\n",
      "Unique values: ['Accident' 'Incident' '25-09-2020' '14-06-2021' '03-11-2020' '24-02-2021'\n",
      " '02-02-2021' '05-05-2021' '03-12-2020' '07-12-2020' '06-05-2021'\n",
      " '19-11-2020' '04-08-2021' '13-09-2021' '10-06-2021' '14-12-2021'\n",
      " '08-06-2021' '24-06-2021' '24-08-2021' '31-03-2021' '27-05-2021'\n",
      " '20-05-2021' '18-11-2020' '25-05-2021' '01-06-2021' '15-07-2021'\n",
      " '15-10-2021' '26-09-2020' '03-06-2021' '29-09-2021' '28-01-2021'\n",
      " '20-10-2021' '11-12-2020' '11-02-2021' '13-12-2021' '06-01-2021'\n",
      " '31-08-2021' '04-03-2021' '05-04-2021' '26-01-2021' '29-01-2021'\n",
      " '26-08-2021' '08-11-2021' '20-08-2021' '05-01-2021' '22-09-2021'\n",
      " '20-09-2021' '16-07-2021' '19-10-2021' '16-11-2021' '17-12-2021'\n",
      " '14-06-2022' '22-06-2022' '13-10-2022' '03-11-2022' '13-07-2022'\n",
      " '05-07-2022' '01-09-2022' '12-08-2022' '08-09-2022' '22-09-2022'\n",
      " '01-11-2022' '01-07-2022' '20-07-2022' '06-10-2022' '23-09-2022'\n",
      " '02-12-2022' '05-08-2022' '08-12-2022' '15-12-2022' '20-12-2022']\n",
      "Value counts:\n",
      " Investigation.Type\n",
      "Accident      85015\n",
      "Incident       3874\n",
      "25-09-2020      702\n",
      "26-09-2020       60\n",
      "02-02-2021       39\n",
      "              ...  \n",
      "11-02-2021        1\n",
      "11-12-2020        1\n",
      "04-08-2021        1\n",
      "05-01-2021        1\n",
      "05-08-2022        1\n",
      "Name: count, Length: 71, dtype: int64\n",
      "Missing values: 0\n",
      "\n",
      "--- Aircraft.damage ---\n",
      "Unique values: ['Destroyed' 'Substantial' 'Minor' 'Unknown']\n",
      "Value counts:\n",
      " Aircraft.damage\n",
      "Substantial    64148\n",
      "Destroyed      18623\n",
      "NaN             4653\n",
      "Minor           2805\n",
      "Unknown          119\n",
      "Name: count, dtype: int64\n",
      "Missing values: 4653\n",
      "\n",
      "--- Make ---\n",
      "Unique values: ['Stinson' 'Piper' 'Cessna' ... 'JAMES R DERNOVSEK' 'ORLICAN S R O'\n",
      " 'ROYSE RALPH L']\n",
      "Value counts:\n",
      " Make\n",
      "Cessna                            22227\n",
      "Piper                             12029\n",
      "CESSNA                             4922\n",
      "Beech                              4330\n",
      "PIPER                              2841\n",
      "                                  ...  \n",
      "MCGLAUGHLIN RICHARD                   1\n",
      "AEROPRAKT MANUFACTURING SP ZOO        1\n",
      "BALCOMB KENNETH C III                 1\n",
      "PERYERA ARNET                         1\n",
      "SCOTT TERRY G                         1\n",
      "Name: count, Length: 8238, dtype: int64\n",
      "Missing values: 1522\n",
      "\n",
      "--- Model ---\n",
      "Unique values: ['108-3' 'PA24-180' '172M' ... 'ROTORWAY EXEC 162-F' 'KITFOX S5'\n",
      " 'M-8 EAGLE']\n",
      "Value counts:\n",
      " Model\n",
      "152                     2367\n",
      "172                     1756\n",
      "NaN                     1551\n",
      "172N                    1164\n",
      "PA-28-140                932\n",
      "                        ... \n",
      "Glasair Super II SFT       1\n",
      "220                        1\n",
      "SILENT 2 ELECTRO           1\n",
      "JETEXEC                    1\n",
      "TT FOX                     1\n",
      "Name: count, Length: 12319, dtype: int64\n",
      "Missing values: 1551\n",
      "\n",
      "--- Amateur.Built ---\n",
      "Unique values: ['No' 'Yes']\n",
      "Value counts:\n",
      " Amateur.Built\n",
      "No     80312\n",
      "Yes     8475\n",
      "NaN     1561\n",
      "Name: count, dtype: int64\n",
      "Missing values: 1561\n",
      "\n",
      "--- Engine.Type ---\n",
      "Unique values: ['Reciprocating' 'Turbo Fan' 'Turbo Shaft' 'Unknown' 'Turbo Prop'\n",
      " 'Turbo Jet' 'Electric' 'Hybrid Rocket' 'Geared Turbofan' 'LR' 'NONE'\n",
      " 'UNK']\n",
      "Value counts:\n",
      " Engine.Type\n",
      "Reciprocating      69530\n",
      "NaN                 8555\n",
      "Turbo Shaft         3609\n",
      "Turbo Prop          3391\n",
      "Turbo Fan           2481\n",
      "Unknown             2051\n",
      "Turbo Jet            703\n",
      "Geared Turbofan       12\n",
      "Electric              10\n",
      "NONE                   2\n",
      "LR                     2\n",
      "Hybrid Rocket          1\n",
      "UNK                    1\n",
      "Name: count, dtype: int64\n",
      "Missing values: 8555\n",
      "\n",
      "--- Purpose.of.flight ---\n",
      "Unique values: ['Personal' 'Business' 'Instructional' 'Unknown' 'Ferry'\n",
      " 'Executive/corporate' 'Aerial Observation' 'Aerial Application'\n",
      " 'Public Aircraft' 'Skydiving' 'Other Work Use' 'Positioning'\n",
      " 'Flight Test' 'Air Race/show' 'Air Drop' 'Public Aircraft - Federal'\n",
      " 'Glider Tow' 'Public Aircraft - Local' 'External Load'\n",
      " 'Public Aircraft - State' 'Banner Tow' 'Firefighting' 'Air Race show'\n",
      " 'PUBS' 'ASHO' 'PUBL']\n",
      "Value counts:\n",
      " Purpose.of.flight\n",
      "Personal                     49448\n",
      "Instructional                10601\n",
      "NaN                           7651\n",
      "Unknown                       6802\n",
      "Aerial Application            4712\n",
      "Business                      4018\n",
      "Positioning                   1646\n",
      "Other Work Use                1264\n",
      "Ferry                          812\n",
      "Aerial Observation             794\n",
      "Public Aircraft                720\n",
      "Executive/corporate            553\n",
      "Flight Test                    405\n",
      "Skydiving                      182\n",
      "External Load                  123\n",
      "Public Aircraft - Federal      105\n",
      "Banner Tow                     101\n",
      "Air Race show                   99\n",
      "Public Aircraft - Local         74\n",
      "Public Aircraft - State         64\n",
      "Air Race/show                   59\n",
      "Glider Tow                      53\n",
      "Firefighting                    40\n",
      "Air Drop                        11\n",
      "ASHO                             6\n",
      "PUBS                             4\n",
      "PUBL                             1\n",
      "Name: count, dtype: int64\n",
      "Missing values: 7651\n",
      "\n",
      "--- Air.carrier ---\n",
      "Unique values: ['Air Canada' 'Rocky Mountain Helicopters, In' 'Lang Air Service' ...\n",
      " 'SKY WEST AVIATION INC TRUSTEE' 'GERBER RICHARD E' 'MC CESSNA 210N LLC']\n",
      "Value counts:\n",
      " Air.carrier\n",
      "NaN                          73700\n",
      "Pilot                          258\n",
      "American Airlines               90\n",
      "United Airlines                 89\n",
      "Delta Air Lines                 53\n",
      "                             ...  \n",
      "N117VR LLC                       1\n",
      "TRAINING SERVICES INC DBA        1\n",
      "Paul D Franzon                   1\n",
      "Rod Aviation LLC                 1\n",
      "Ernie Dale Willis                1\n",
      "Name: count, Length: 13591, dtype: int64\n",
      "Missing values: 73700\n",
      "\n",
      "--- Weather.Condition ---\n",
      "Unique values: ['UNK' 'IMC' 'VMC' 'Unk']\n",
      "Value counts:\n",
      " Weather.Condition\n",
      "VMC    77303\n",
      "IMC     5976\n",
      "NaN     5951\n",
      "UNK      856\n",
      "Unk      262\n",
      "Name: count, dtype: int64\n",
      "Missing values: 5951\n",
      "\n",
      "--- Broad.phase.of.flight ---\n",
      "Unique values: ['Cruise' 'Unknown' 'Approach' 'Climb' 'Takeoff' 'Landing' 'Taxi'\n",
      " 'Descent' 'Maneuvering' 'Standing' 'Go-around' 'Other']\n",
      "Value counts:\n",
      " Broad.phase.of.flight\n",
      "NaN            28624\n",
      "Landing        15428\n",
      "Takeoff        12493\n",
      "Cruise         10269\n",
      "Maneuvering     8144\n",
      "Approach        6546\n",
      "Climb           2034\n",
      "Taxi            1958\n",
      "Descent         1887\n",
      "Go-around       1353\n",
      "Standing         945\n",
      "Unknown          548\n",
      "Other            119\n",
      "Name: count, dtype: int64\n",
      "Missing values: 28624\n",
      "\n",
      "--- Report.Status ---\n",
      "Unique values: ['Probable Cause' 'Factual' 'Foreign' ...\n",
      " 'The pilot did not ensure adequate clearance from construction vehicles during taxi.'\n",
      " 'The pilotÂ\\x92s failure to secure the magneto switch before attempting to hand rotate the engine which resulted in an inadvertent engine start, a runaway airplane, and subsequent impact with parked airplanes. Contributing to the accident was the failure to properly secure the airplane with chocks.'\n",
      " 'The pilotÂ\\x92s loss of control due to a wind gust during landing.']\n",
      "Value counts:\n",
      " Report.Status\n",
      "Probable Cause                                                                                                                                                                                                                          61754\n",
      "NaN                                                                                                                                                                                                                                      7843\n",
      "Foreign                                                                                                                                                                                                                                  1999\n",
      "<br /><br />                                                                                                                                                                                                                              167\n",
      "Factual                                                                                                                                                                                                                                   145\n",
      "                                                                                                                                                                                                                                        ...  \n",
      "The pilot's inadequate compensation for the known wind conditions during a hovering maneuver, which resulted in a loss of tail rotor effectiveness and directional control.                                                                 1\n",
      "The pilot lost directional control during landing.                                                                                                                                                                                          1\n",
      "The medical incapacitation of the pilot due to a sudden cardiac arrhythmia or acute myocardial infarction.                                                                                                                                  1\n",
      "The pilotÂs failure to ensure that ice and snow were removed from the airplaneÂs surfaces during the preflight inspection, which resulted in an inadvertent aerodynamic stall after takeoff and loss of control of the airplane.\\r        1\n",
      "The fracture of the fan mid shaft due to a stress corrosion cracking initiated by local regions of corrosion pitting, which resulted from oil migration within the shaft and its subsequent degradation.                                    1\n",
      "Name: count, Length: 17007, dtype: int64\n",
      "Missing values: 7843\n",
      "\n",
      "--- Latitude ---\n",
      "Unique values: [36.922223 42.445277 30.757778 ... '321814N' '039101N' '373829N']\n",
      "Value counts:\n",
      " Latitude\n",
      "NaN          55966\n",
      "332739N         19\n",
      "335219N         18\n",
      "334118N         17\n",
      "32.815556       17\n",
      "             ...  \n",
      "46.154444        1\n",
      "38.54            1\n",
      "48.12            1\n",
      "46.041111        1\n",
      "30.757778        1\n",
      "Name: count, Length: 25593, dtype: int64\n",
      "Missing values: 55966\n",
      "\n",
      "--- Longitude ---\n",
      "Unique values: [-81.878056 -70.758333 -88.355555 ... '1114536W' '0835218W' '0121410W']\n",
      "Value counts:\n",
      " Longitude\n",
      "NaN            55975\n",
      "0112457W          24\n",
      "1114342W          18\n",
      "1151140W          17\n",
      "-104.673056       17\n",
      "               ...  \n",
      "0994635W           1\n",
      "1113657W           1\n",
      "-83.920556         1\n",
      "-84.825556         1\n",
      "-80.28             1\n",
      "Name: count, Length: 27157, dtype: int64\n",
      "Missing values: 55975\n"
     ]
    }
   ],
   "source": [
    "# List of columns to explore, focusing on key categorical and numerical fields\n",
    "# These columns are likely to offer valuable insights into aviation incidents/accidents\n",
    "cols_to_explore = [\n",
    "    'Event.Date','Investigation.Type','Aircraft.damage',  'Make', 'Model', 'Amateur.Built',\n",
    "    'Engine.Type', 'Purpose.of.flight', 'Air.carrier', 'Weather.Condition', \n",
    "    'Broad.phase.of.flight', 'Report.Status','Latitude','Longitude'\n",
    "]\n",
    "\n",
    "# Loop through each column in the list and explore its unique values, value counts, and missing data\n",
    "for col in cols_to_explore:\n",
    "    print(f\"\\n--- {col} ---\")  # Print the column name to show which column is being explored\n",
    "    \n",
    "    # Print unique values (excluding NaNs) to understand the distinct categories or values in the column\n",
    "    print(\"Unique values:\", aviation_df[col].dropna().unique())\n",
    "    \n",
    "    # Print value counts for each unique value, including NaNs to identify missing data patterns\n",
    "    print(\"Value counts:\\n\", aviation_df[col].value_counts(dropna=False))\n",
    "    \n",
    "    # Print the number of missing values for the current column to identify potential data cleaning needs\n",
    "    print(\"Missing values:\", aviation_df[col].isna().sum())\n",
    "\n"
   ]
  },
  {
   "cell_type": "markdown",
   "metadata": {},
   "source": [
    "- The dates are spread over many decades, but a substantial number of incidents are recorded in more recent years.\n",
    "- Majority of`Investigation.Type` records are classified as Accident, but the presence of dates suggests that some entries might be incorrectly labeled or formatted.\n",
    "- Most `Aircraft.damage` incidents resulted in Substantial damage, followed by Destroyed, while a very small number are categorized as Minor or Unknown.\n",
    "- Cessna and Piper are the most dominant `make`, indicating they are common aircraft brands involved in incidents. However, there are several less common makes with only a single occurrence.\n",
    "- Certain `models` like 152 and 172 are significantly more frequent than others, highlighting popular aircraft models in the dataset.\n",
    "- A majority of aircraft involved in incidents are not amateur-built, though a significant portion of incidents involve amateur-built aircraft.\n",
    "- Most aircraft involved in incidents have reciprocating engines, which are commonly used in smaller, general aviation aircraft. Other types like Turbo Prop and Turbo Fan are less common.\n",
    "- Personal flights dominate the dataset, followed by instructional flights, suggesting many incidents involve private pilots or flight training.\n",
    "- A large portion of  data is missing for `Air.carrier`, and Pilot appears as a common entry, likely representing personal or non-commercial operators.\n",
    "- Most incidents occurred in VMC (visual conditions), which is typical for general aviation incidents, but IMC conditions may indicate more hazardous flight situations.\n",
    "- A significant portion of incidents occurred during the landing and takeoff phases, which is typical for general aviation accidents. Many records are also missing phase information.\n",
    "- Probable Cause is the most frequent report status, which is consistent with standard aviation incident reporting. However, missing data may imply incomplete investigations.\n",
    "- A large portion of the data for geographic locations is missing, which could hinder spatial analysis of incidents.\n"
   ]
  },
  {
   "cell_type": "markdown",
   "metadata": {},
   "source": [
    "#### **2.7. Check for Duplicates**\n",
    "> Identify any redundant entries in the data"
   ]
  },
  {
   "cell_type": "code",
   "execution_count": 14,
   "metadata": {},
   "outputs": [
    {
     "name": "stdout",
     "output_type": "stream",
     "text": [
      "Duplicate rows: 1390\n"
     ]
    }
   ],
   "source": [
    "# Check for duplicate rows in the DataFrame\n",
    "print(\"Duplicate rows:\", aviation_df.duplicated().sum())\n",
    "\n"
   ]
  },
  {
   "cell_type": "markdown",
   "metadata": {},
   "source": [
    "#### **2.8. A correlation matrix  heatmapfor numerical columns**\n",
    "\n",
    "> This will help show how numerical columns relate to each other."
   ]
  },
  {
   "cell_type": "code",
   "execution_count": 15,
   "metadata": {},
   "outputs": [
    {
     "data": {
      "image/png": "[encoded data removed]",
      "text/plain": [
       "<Figure size 1000x600 with 2 Axes>"
      ]
     },
     "metadata": {},
     "output_type": "display_data"
    }
   ],
   "source": [
    "# Set the figure size for the heatmap to ensure the plot is large enough to read\n",
    "plt.figure(figsize=(10,6))\n",
    "\n",
    "# Create a heatmap of the correlation matrix for numerical columns\n",
    "# .corr() computes the correlation matrix, 'numeric_only=True' ensures only numeric columns are included\n",
    "# annot=True adds the correlation coefficients as annotations on the heatmap\n",
    "# cmap='coolwarm' defines the color scheme for the heatmap, with warmer colors indicating higher correlations\n",
    "sns.heatmap(aviation_df.corr(numeric_only=True), annot=True, cmap='coolwarm')\n",
    "\n",
    "# Set the title of the heatmap for context\n",
    "plt.title(\"Correlation Matrix\")\n",
    "\n",
    "# Display the heatmap\n",
    "plt.show()"
   ]
  },
  {
   "cell_type": "markdown",
   "metadata": {},
   "source": [
    "The correlation matrix helps identify relationships between variables related to aircraft safety:\n",
    "\n",
    "- **Number of Engines** shows a **moderate positive correlation (0.41)** with the number of **Uninjured passengers**, suggesting that aircraft with more engines might offer better chances of survival.\n",
    "- **Serious Injuries** and **Minor Injuries** have a **moderate positive correlation (0.33)**, indicating that accidents with more serious injuries tend to also have more minor injuries.\n",
    "- **Total Fatal Injuries** has **very weak or no correlation** with other variables, meaning fatality counts are not strongly linked to other injury outcomes or engine count.\n",
    "\n"
   ]
  },
  {
   "cell_type": "markdown",
   "metadata": {},
   "source": [
    "#### **2.8. A Box Plot of numerical features to  visualize Outliers**\n",
    "> Just for vuisualization to see how spread out the outliers are "
   ]
  },
  {
   "cell_type": "code",
   "execution_count": 16,
   "metadata": {},
   "outputs": [
    {
     "data": {
      "image/png": "[encoded data removed]",
      "text/plain": [
       "<Figure size 1200x800 with 5 Axes>"
      ]
     },
     "metadata": {},
     "output_type": "display_data"
    }
   ],
   "source": [
    "# Set the figure size for the box plots\n",
    "plt.figure(figsize=(12,8))\n",
    "\n",
    "# Create box plots for each numerical column in the DataFrame\n",
    "# This will show potential outliers outside the whiskers of each box plot\n",
    "for i, col in enumerate(aviation_df.select_dtypes(include='number').columns, 1):\n",
    "    plt.subplot(3, 4, i)  # Create a grid of subplots (3 rows, 4 columns)\n",
    "    sns.boxplot(x=aviation_df[col])  # Create a box plot for the current column\n",
    "    plt.title(f\"Box Plot of {col}\")  # Set the title of each subplot\n",
    "\n",
    "# Adjust layout to prevent overlap and ensure readability\n",
    "plt.tight_layout()\n",
    "\n",
    "# Show the plot\n",
    "plt.show()"
   ]
  },
  {
   "cell_type": "markdown",
   "metadata": {},
   "source": [
    "- All variables (Number of Engines, Injuries, and Uninjured) show a large number of outliers, indicating high variability in incident outcomes.\n",
    "\n",
    "- Most values are clustered near the lower end, with a few extreme values stretching far beyond the rest.\n",
    "\n",
    "- This suggests that most accidents involve few injuries, but there are some rare but severe incidents with very high casualties or uninjured counts."
   ]
  },
  {
   "cell_type": "markdown",
   "metadata": {},
   "source": [
    "## **3. Data Preparation .**\n",
    "\n",
    "> To ensure the accuracy and reliability of the analysis, I undertook a structured data preparation process. This step is critical for transforming raw accident records into a clean, analyzable format that supports meaningful insights.\n"
   ]
  },
  {
   "cell_type": "markdown",
   "metadata": {},
   "source": [
    "<h3><u>  3.1 Data Cleaning </u></h3>\n",
    "\n",
    "> **Standardizing Column Names:** \n",
    "- This helps to standardize column names by replacing any periods (.) in the column names with underscores (_) and avoid issues when referencing columns in code\n"
   ]
  },
  {
   "cell_type": "code",
   "execution_count": 17,
   "metadata": {},
   "outputs": [],
   "source": [
    "# Replace any periods (.) in the column names with underscores (_)\n",
    "aviation_df.columns = aviation_df.columns.str.replace('.', '_', regex=False)\n"
   ]
  },
  {
   "cell_type": "markdown",
   "metadata": {},
   "source": [
    "> **Column Selection**\n",
    "- Kept only the relevant columns for analysis."
   ]
  },
  {
   "cell_type": "code",
   "execution_count": 18,
   "metadata": {},
   "outputs": [],
   "source": [
    "# List of relevant columns to keep for further analysis\n",
    "# These columns are selected based on their potential importance in investigating aviation incidents/accidents\n",
    "columns_to_keep = [\n",
    "    'Investigation_Type',  # Type of investigation conducted\n",
    "    'Event_Date',  # Date of the event\n",
    "    'Location',  # Location where the incident occurred\n",
    "    'Country',  # Country of the event\n",
    "    'Injury_Severity',  # Severity of injuries (fatal, serious, minor)\n",
    "    'Aircraft_damage',  # Extent of damage to the aircraft\n",
    "    'Make',  # Manufacturer of the aircraft\n",
    "    'Model',  # Model of the aircraft\n",
    "    'Amateur_Built',  # Whether the aircraft was amateur-built\n",
    "    'Number_of_Engines',  # Number of engines on the aircraft\n",
    "    'Engine_Type',  # Type of engine used in the aircraft\n",
    "    'Purpose_of_flight',  # Purpose for which the flight was undertaken \n",
    "    'Total_Fatal_Injuries',  # Total number of fatal injuries\n",
    "    'Total_Serious_Injuries',  # Total number of serious injuries\n",
    "    'Total_Minor_Injuries',  # Total number of minor injuries\n",
    "    'Total_Uninjured',  # Total number of uninjured individuals\n",
    "    'Weather_Condition',  # Weather condition during the event\n",
    "    'Broad_phase_of_flight',  # Phase of flight when the event occurred \n",
    "    'Report_Status'  # Status of the event report \n",
    "]\n",
    "\n",
    "# Create a new DataFrame with only the selected columns\n",
    "# The .copy() method ensures that we have an independent copy of the data to avoid changes to the original DataFrame\n",
    "aviation_df = aviation_df[columns_to_keep].copy()\n"
   ]
  },
  {
   "cell_type": "markdown",
   "metadata": {},
   "source": [
    "> **Handling Missing Values:**\n",
    "\n",
    " - I carefully examined the dataset for missing or incomplete entries. Critical columns such as *Aircraft Make*, *Model*, *Injury Severity*, *Aircraft Damage*, *Purpose of Flight*, and *Fatal Injuries* were prioritized to maintain the integrity of our analysis. Missing values in essential fields were addressed by either removal or, where appropriate, imputing values based on context."
   ]
  },
  {
   "cell_type": "code",
   "execution_count": 19,
   "metadata": {},
   "outputs": [],
   "source": [
    "# Fill missing values in the 'Make' column with the string 'Unknown'\n",
    "# This helps to handle any missing manufacturer information and avoids errors when analyzing the data\n",
    "aviation_df['Make'] = aviation_df['Make'].fillna('Unknown')\n"
   ]
  },
  {
   "cell_type": "code",
   "execution_count": 20,
   "metadata": {},
   "outputs": [],
   "source": [
    "# Fill missing values in the 'Model' column with the string 'Unknown'\n",
    "# This ensures that any missing aircraft model information is replaced with a placeholder,\n",
    "# which helps maintain the integrity of the dataset for analysis and avoids issues during processing\n",
    "aviation_df['Model'] = aviation_df['Model'].fillna('Unknown')\n"
   ]
  },
  {
   "cell_type": "code",
   "execution_count": 21,
   "metadata": {},
   "outputs": [],
   "source": [
    "# Fill missing values in the 'Amateur_Built' column with the string 'UNK'\n",
    "# This assigns a placeholder value for missing entries, indicating an unknown status for whether the aircraft was amateur-built\n",
    "aviation_df['Amateur_Built'] = aviation_df['Amateur_Built'].fillna('UNK')\n"
   ]
  },
  {
   "cell_type": "code",
   "execution_count": 22,
   "metadata": {},
   "outputs": [],
   "source": [
    "# Fill missing values in the 'Weather_Condition' column with the string 'UNK'\n",
    "# This placeholder indicates that the weather condition is unknown for those records with missing data\n",
    "aviation_df['Weather_Condition'] = aviation_df['Weather_Condition'].fillna('UNK')\n"
   ]
  },
  {
   "cell_type": "code",
   "execution_count": 23,
   "metadata": {},
   "outputs": [],
   "source": [
    "# Fill missing values in the 'Aircraft_damage' column with the string 'Unknown'\n",
    "# This ensures that missing damage information is replaced with a consistent placeholder value\n",
    "# The 'inplace=True' argument modifies the original DataFrame directly without needing to assign it back to the column\n",
    "aviation_df['Aircraft_damage'] = aviation_df['Aircraft_damage'].fillna('Unknown')"
   ]
  },
  {
   "cell_type": "code",
   "execution_count": 24,
   "metadata": {},
   "outputs": [],
   "source": [
    "# Fill missing values for 'Purpose_of_flight' with 'Other' (assuming unknown purpose means 'Other')\n",
    "aviation_df['Purpose_of_flight'] = aviation_df['Purpose_of_flight'].fillna('Other')"
   ]
  },
  {
   "cell_type": "code",
   "execution_count": 25,
   "metadata": {},
   "outputs": [],
   "source": [
    "# Fill missing values for 'Engine_Type' with 'Unknown' (assuming missing engine type is unknown)\n",
    "aviation_df['Engine_Type'] = aviation_df['Engine_Type'].fillna('Unknown')"
   ]
  },
  {
   "cell_type": "code",
   "execution_count": 26,
   "metadata": {},
   "outputs": [],
   "source": [
    "# Fill missing values for 'Report_Status' with 'Unknown' (assuming unknown report status is 'Unknown')\n",
    "aviation_df['Report_Status'] = aviation_df['Report_Status'].fillna('Unknown')"
   ]
  },
  {
   "cell_type": "code",
   "execution_count": 27,
   "metadata": {},
   "outputs": [],
   "source": [
    "# Fill missing values in the 'Number_of_Engines' column with 0\n",
    "# This is a reasonable approach to indicate that the number of engines is unknown or not recorded\n",
    "# After filling missing values, convert the column to integers using .astype(int) to ensure consistent data type\n",
    "aviation_df['Number_of_Engines'] = aviation_df['Number_of_Engines'].fillna(0).astype(int)\n"
   ]
  },
  {
   "cell_type": "code",
   "execution_count": 28,
   "metadata": {},
   "outputs": [
    {
     "name": "stdout",
     "output_type": "stream",
     "text": [
      "Investigation_Type            0\n",
      "Event_Date                 1459\n",
      "Location                   1511\n",
      "Country                    1685\n",
      "Injury_Severity            2459\n",
      "Aircraft_damage               0\n",
      "Make                          0\n",
      "Model                         0\n",
      "Amateur_Built                 0\n",
      "Number_of_Engines             0\n",
      "Engine_Type                   0\n",
      "Purpose_of_flight             0\n",
      "Total_Fatal_Injuries      12860\n",
      "Total_Serious_Injuries    13969\n",
      "Total_Minor_Injuries      13392\n",
      "Total_Uninjured            7371\n",
      "Weather_Condition             0\n",
      "Broad_phase_of_flight     28624\n",
      "Report_Status                 0\n",
      "dtype: int64\n"
     ]
    }
   ],
   "source": [
    "# Verify that all missing values have been filled\n",
    "print(aviation_df.isnull().sum())\n"
   ]
  },
  {
   "cell_type": "markdown",
   "metadata": {},
   "source": [
    "> **Cleaning Injury Severity & Extracting Fatalities**\n",
    "\n",
    "- Injury Severity: This column contains a mixture of text descriptions and embedded numbers (e.g., Fatal(3)). I used regular expressions to extract the number of fatalities and created a temporary column called Fatal_Injuries."
   ]
  },
  {
   "cell_type": "code",
   "execution_count": 29,
   "metadata": {},
   "outputs": [],
   "source": [
    "# Extract the number of fatal injuries from the 'Injury_Severity' column using a regular expression\n",
    "# The regular expression looks for a pattern like 'Fatal(1)', capturing the number of fatal injuries\n",
    "# If the pattern is found, the number is extracted and converted to an integer\n",
    "# If the pattern is not found, or if the entry is not a string, the value is set to 0 (indicating no fatal injuries)\n",
    "aviation_df['Fatal_Injuries'] = aviation_df['Injury_Severity'].apply(\n",
    "    lambda x: int(re.search(r'Fatal\\((\\d+)\\)', x).group(1)) \n",
    "    if isinstance(x, str) and re.search(r'Fatal\\((\\d+)\\)', x) \n",
    "    else 0\n",
    ")\n"
   ]
  },
  {
   "cell_type": "markdown",
   "metadata": {},
   "source": [
    "> **Total Fatal Injuries Imputation:** \n",
    "- For entries with missing values in the Total_Fatal_Injuries column, I fill them using the extracted values from Fatal_Injuries. \n",
    " - This allows us to retain more rows during analysis."
   ]
  },
  {
   "cell_type": "code",
   "execution_count": 30,
   "metadata": {},
   "outputs": [],
   "source": [
    "# Fill missing values in the 'Total_Fatal_Injuries' column with the values from the 'Fatal_Injuries' column\n",
    "# This ensures that if the 'Total_Fatal_Injuries' is missing, we use the value derived from the 'Fatal_Injuries' column\n",
    "aviation_df['Total_Fatal_Injuries'] = aviation_df['Total_Fatal_Injuries'].fillna(aviation_df['Fatal_Injuries'])\n",
    "\n",
    "# Drop the 'Fatal_Injuries' column from the DataFrame, as its values are now incorporated into 'Total_Fatal_Injuries'\n",
    "aviation_df = aviation_df.drop(columns=['Fatal_Injuries'])"
   ]
  },
  {
   "cell_type": "markdown",
   "metadata": {},
   "source": [
    "> **Injury Severity Normalization:**\n",
    "\n",
    "- After extracting and imputing fatality data, I further normalized the Injury_Severity column. Specifically, if an incident had Total_Fatal_Injuries equal to 0, we labeled it as 'Non-Fatal' to simplify classification and analysis of injury outcomes."
   ]
  },
  {
   "cell_type": "code",
   "execution_count": 31,
   "metadata": {},
   "outputs": [],
   "source": [
    "# Update the 'Injury_Severity' column to 'Non-Fatal' where there were zero fatalities\n",
    "aviation_df.loc[aviation_df['Total_Fatal_Injuries'] == 0, 'Injury_Severity'] = 'Non-Fatal'\n"
   ]
  },
  {
   "cell_type": "markdown",
   "metadata": {},
   "source": [
    "> **Fill missing values for injury-related columns with 0**\n",
    "- This ensures that any missing values in the 'Total_Fatal_Injuries', 'Total_Serious_Injuries',\n",
    "- 'Total_Minor_Injuries', and 'Total_Uninjured' columns are replaced with 0, indicating no injuries or uninjured individuals"
   ]
  },
  {
   "cell_type": "code",
   "execution_count": 32,
   "metadata": {},
   "outputs": [],
   "source": [
    "# Fill missing values for injury-related columns with 0\n",
    "injury_cols = [\n",
    "    'Total_Fatal_Injuries',  # Number of fatal injuries\n",
    "    'Total_Serious_Injuries',  # Number of serious injuries\n",
    "    'Total_Minor_Injuries',  # Number of minor injuries\n",
    "    'Total_Uninjured'  # Number of uninjured individuals\n",
    "]\n",
    "\n",
    "# Apply the fill operation to the selected columns\n",
    "aviation_df[injury_cols] = aviation_df[injury_cols].fillna(0)\n"
   ]
  },
  {
   "cell_type": "markdown",
   "metadata": {},
   "source": [
    "#### 2.2. **Data Type Conversions**\n",
    "\n",
    "> Date field (`Event Date`) is converted to proper datetime formats to facilitate time-based analysis.\n",
    "   "
   ]
  },
  {
   "cell_type": "code",
   "execution_count": 33,
   "metadata": {},
   "outputs": [],
   "source": [
    "# Convert the 'Event_Date' column to datetime format\n",
    "# The 'errors='coerce'' argument ensures that any invalid or improperly formatted dates are set to NaT (Not a Time) instead of raising an error\n",
    "aviation_df[\"Event_Date\"] = pd.to_datetime(aviation_df[\"Event_Date\"], errors='coerce')\n"
   ]
  },
  {
   "cell_type": "markdown",
   "metadata": {},
   "source": [
    "> Numeric fields such as injury counts were ensured to be in integer format for accurate calculations."
   ]
  },
  {
   "cell_type": "code",
   "execution_count": 34,
   "metadata": {},
   "outputs": [],
   "source": [
    "# Convert injury-related columns to integer type for cleaner and more consistent data representation\n",
    "aviation_df[injury_cols] = aviation_df[injury_cols].astype(int)"
   ]
  },
  {
   "cell_type": "markdown",
   "metadata": {},
   "source": [
    "#### 2.3. **Feature Engineering**\n",
    "\n",
    "\n",
    " > **Total Injuries Calculation:**\n",
    "- Created an aggregated feature, `Total Injuries`, by summing fatal, serious, and minor injuries to provide a comprehensive view of each incident's severity."
   ]
  },
  {
   "cell_type": "code",
   "execution_count": 35,
   "metadata": {},
   "outputs": [],
   "source": [
    "# Calculate the total number of injuries by summing the values from the 'Total_Fatal_Injuries',\n",
    "aviation_df[\"Total_Injuries\"] = aviation_df[[\"Total_Fatal_Injuries\", \"Total_Serious_Injuries\", \"Total_Minor_Injuries\"]].sum(axis=1)\n"
   ]
  },
  {
   "cell_type": "markdown",
   "metadata": {},
   "source": [
    "#### 2.4 **Filtering Relevant Data**\n",
    "\n",
    ">  ** Record Filtering** \n",
    "\n",
    "- Kept only rows with `Investigation_Type` in ['Accident', 'Incident'].\n",
    "   "
   ]
  },
  {
   "cell_type": "code",
   "execution_count": 36,
   "metadata": {},
   "outputs": [],
   "source": [
    "# Filter the DataFrame to keep only rows with valid 'Investigation_Type' values ('Accident' or 'Incident')\n",
    "aviation_df = aviation_df[aviation_df['Investigation_Type'].isin(['Accident', 'Incident'])]\n",
    "\n",
    "# Reset the index of the DataFrame after filtering\n",
    "# The 'drop=True' argument prevents the old index from being added as a column, ensuring a clean reset\n",
    "aviation_df.reset_index(drop=True, inplace=True)"
   ]
  },
  {
   "cell_type": "markdown",
   "metadata": {},
   "source": [
    "> **Engine Type Mapping**\n",
    "\n",
    "- Unified variants of engine names to a common label (Turbo Fan, Turbo Jet, etc.).\n",
    "\n",
    "- Standardized values to uppercase for consistency."
   ]
  },
  {
   "cell_type": "code",
   "execution_count": 37,
   "metadata": {},
   "outputs": [
    {
     "name": "stdout",
     "output_type": "stream",
     "text": [
      "Engine_Type\n",
      "Reciprocating    69530\n",
      "Unknown           9148\n",
      "Turbo Shaft       3609\n",
      "Turbo Prop        3391\n",
      "Turbo Fan         2493\n",
      "Turbo Jet          703\n",
      "Other               13\n",
      "None                 2\n",
      "Name: count, dtype: int64\n"
     ]
    }
   ],
   "source": [
    "# Create a mapping dictionary to standardize engine types in the 'Engine_Type' column\n",
    "# The dictionary maps various representations of engine types to a consistent naming scheme\n",
    "engine_map = {\n",
    "    'RECIPROCATING': 'Reciprocating',\n",
    "    'TURBO FAN': 'Turbo Fan',\n",
    "    'TURBO SHAFT': 'Turbo Shaft',\n",
    "    'TURBO PROP': 'Turbo Prop',\n",
    "    'TURBO JET': 'Turbo Jet',\n",
    "    'GEARED TURBOFAN': 'Turbo Fan',\n",
    "    'ELECTRIC': 'Other',\n",
    "    'HYBRID ROCKET': 'Other',\n",
    "    'LR': 'Other',\n",
    "    'NONE': 'None',\n",
    "    'UNK': 'Unknown',\n",
    "    'UNKNOWN': 'Unknown',\n",
    "    'Geared Turbofan': 'Turbo Fan',\n",
    "    'Electric': 'Other',\n",
    "    'Hybrid Rocket': 'Other',\n",
    "    'LR': 'Other',\n",
    "    'NONE': 'None',\n",
    "    'UNK': 'Unknown'\n",
    "}\n",
    "\n",
    "# Replace the engine types in the 'Engine_Type' column according to the mapping\n",
    "aviation_df['Engine_Type'] = aviation_df['Engine_Type'].replace(engine_map)\n",
    "\n",
    "# Print the value counts of the 'Engine_Type' column to verify the replacement\n",
    "# dropna=False includes missing values in the counts, giving a complete overview\n",
    "print(aviation_df['Engine_Type'].value_counts(dropna=False))\n",
    "\n",
    "# Convert all engine type values to uppercase to ensure uniformity and avoid case-related issues\n",
    "aviation_df['Engine_Type'] = aviation_df['Engine_Type'].str.upper()\n"
   ]
  },
  {
   "cell_type": "markdown",
   "metadata": {},
   "source": [
    "> **Flight Phase Simplification**\n",
    "- Mapped uncommon Broad_phase_of_flight values to 'Other'."
   ]
  },
  {
   "cell_type": "code",
   "execution_count": 38,
   "metadata": {},
   "outputs": [
    {
     "data": {
      "text/plain": [
       "Broad_phase_of_flight\n",
       "Other          36009\n",
       "Landing        15428\n",
       "Takeoff        12493\n",
       "Cruise         10269\n",
       "Maneuvering     8144\n",
       "Approach        6546\n",
       "Name: count, dtype: int64"
      ]
     },
     "execution_count": 38,
     "metadata": {},
     "output_type": "execute_result"
    }
   ],
   "source": [
    "# Define a list of common flight phases of interest (Landing, Takeoff, Cruise, Maneuvering, Approach)\n",
    "common_phases = ['Landing', 'Takeoff', 'Cruise', 'Maneuvering', 'Approach']\n",
    "\n",
    "# Use the apply function to update the 'Broad_phase_of_flight' column\n",
    "# If the flight phase is in the list of common phases, it is left unchanged\n",
    "# Otherwise, it is categorized as 'Other' to group less common phases under a single category\n",
    "aviation_df['Broad_phase_of_flight'] = aviation_df['Broad_phase_of_flight'].apply(\n",
    "    lambda x: x if x in common_phases else 'Other'\n",
    ")\n",
    "\n",
    "# Display the value counts of the 'Broad_phase_of_flight' column to see the distribution of flight phases\n",
    "aviation_df['Broad_phase_of_flight'].value_counts()\n"
   ]
  },
  {
   "cell_type": "markdown",
   "metadata": {},
   "source": [
    "> **Weather Condition Standardization**\n",
    "- Converted to uppercase (VMC, IMC, UNK), ensuring  uniformity and consistency, preventing case-related issues when analyzing or grouping data"
   ]
  },
  {
   "cell_type": "code",
   "execution_count": 39,
   "metadata": {},
   "outputs": [
    {
     "data": {
      "text/plain": [
       "Weather_Condition\n",
       "VMC    77303\n",
       "IMC     5976\n",
       "UNK     5610\n",
       "Name: count, dtype: int64"
      ]
     },
     "execution_count": 39,
     "metadata": {},
     "output_type": "execute_result"
    }
   ],
   "source": [
    "# Convert all entries in the 'Weather_Condition' column to uppercase\n",
    "aviation_df['Weather_Condition'] = aviation_df['Weather_Condition'].str.upper()\n",
    "\n",
    "# Display the value counts of the 'Weather_Condition' column to see the distribution of weather conditions\n",
    "aviation_df['Weather_Condition'].value_counts()\n"
   ]
  },
  {
   "cell_type": "markdown",
   "metadata": {},
   "source": [
    "> **Purpose of Flight Cleanup**\n",
    "\n",
    "- Lowercased for mapping, replaced noisy/inconsistent values, and re-uppercased for standardization."
   ]
  },
  {
   "cell_type": "code",
   "execution_count": 40,
   "metadata": {},
   "outputs": [
    {
     "data": {
      "text/plain": [
       "Purpose_of_flight\n",
       "PERSONAL                     49448\n",
       "INSTRUCTIONAL                10601\n",
       "UNKNOWN                       6802\n",
       "OTHER                         6203\n",
       "AERIAL APPLICATION            4712\n",
       "BUSINESS                      4018\n",
       "POSITIONING                   1646\n",
       "OTHER WORK USE                1264\n",
       "FERRY                          812\n",
       "AERIAL OBSERVATION             794\n",
       "PUBLIC AIRCRAFT                720\n",
       "EXECUTIVE/CORPORATE            553\n",
       "FLIGHT TEST                    405\n",
       "SKYDIVING                      182\n",
       "EXTERNAL LOAD                  123\n",
       "PUBLIC AIRCRAFT - FEDERAL      105\n",
       "BANNER TOW                     101\n",
       "AIR RACE SHOW                   99\n",
       "PUBLIC AIRCRAFT - LOCAL         74\n",
       "PUBLIC AIRCRAFT - STATE         64\n",
       "AIR RACE/SHOW                   59\n",
       "GLIDER TOW                      53\n",
       "FIREFIGHTING                    40\n",
       "AIR DROP                        11\n",
       "Name: count, dtype: int64"
      ]
     },
     "execution_count": 40,
     "metadata": {},
     "output_type": "execute_result"
    }
   ],
   "source": [
    "# Convert all entries in the 'Purpose_of_flight' column to lowercase\n",
    "# This ensures that any variations in capitalization are standardized before applying the mapping\n",
    "aviation_df['Purpose_of_flight'] = aviation_df['Purpose_of_flight'].str.lower()\n",
    "\n",
    "# Create a mapping dictionary to standardize the 'Purpose_of_flight' values\n",
    "# This replaces specific non-standard values with more consistent labels for better analysis\n",
    "replace_map = {\n",
    "    'air Race Show': 'Air Race/Show',  # Standardizes 'Air Race Show' to 'Air Race/Show'\n",
    "    'air Race/Show': 'Air Race/Show',  # Keeps 'Air Race/Show' as it is (redundant here)\n",
    "    'asho': 'Other',                  # Replaces 'Asho' with 'Other'\n",
    "    'pubs': 'Other',                  # Replaces 'Pubs' with 'Other'\n",
    "    'publ': 'Other',                  # Replaces 'Publ' with 'Other'\n",
    "    'unknown': 'Unknown'              # Keeps 'Unknown' as it is (redundant here)\n",
    "}\n",
    "\n",
    "# Apply the replacement mapping to standardize the 'Purpose_of_flight' column values\n",
    "aviation_df['Purpose_of_flight'] = aviation_df['Purpose_of_flight'].replace(replace_map)\n",
    "\n",
    "# Convert the 'Purpose_of_flight' column back to uppercase to ensure uniformity\n",
    "aviation_df['Purpose_of_flight'] = aviation_df['Purpose_of_flight'].str.upper()\n",
    "\n",
    "# Display the value counts of the 'Purpose_of_flight' column to see the distribution of flight purposes\n",
    "aviation_df['Purpose_of_flight'].value_counts()\n"
   ]
  },
  {
   "cell_type": "markdown",
   "metadata": {},
   "source": [
    "> **Drop  missing row values**\n",
    "- This ensures that only rows with both valid country and location data are kept for analysis\n"
   ]
  },
  {
   "cell_type": "code",
   "execution_count": null,
   "metadata": {},
   "outputs": [],
   "source": [
    "# Drop rows where either 'Country' or 'Location' columns have missing values\n",
    "aviation_df.dropna(subset=['Country', 'Location'], inplace=True)"
   ]
  },
  {
   "cell_type": "markdown",
   "metadata": {},
   "source": [
    "Lets check data information to confim if we still have null zalues"
   ]
  },
  {
   "cell_type": "code",
   "execution_count": 42,
   "metadata": {},
   "outputs": [
    {
     "name": "stdout",
     "output_type": "stream",
     "text": [
      "<class 'pandas.core.frame.DataFrame'>\n",
      "Index: 88612 entries, 0 to 88888\n",
      "Data columns (total 20 columns):\n",
      " #   Column                  Non-Null Count  Dtype         \n",
      "---  ------                  --------------  -----         \n",
      " 0   Investigation_Type      88612 non-null  object        \n",
      " 1   Event_Date              88612 non-null  datetime64[ns]\n",
      " 2   Location                88612 non-null  object        \n",
      " 3   Country                 88612 non-null  object        \n",
      " 4   Injury_Severity         88612 non-null  object        \n",
      " 5   Aircraft_damage         88612 non-null  object        \n",
      " 6   Make                    88612 non-null  object        \n",
      " 7   Model                   88612 non-null  object        \n",
      " 8   Amateur_Built           88612 non-null  object        \n",
      " 9   Number_of_Engines       88612 non-null  int64         \n",
      " 10  Engine_Type             88612 non-null  object        \n",
      " 11  Purpose_of_flight       88612 non-null  object        \n",
      " 12  Total_Fatal_Injuries    88612 non-null  int64         \n",
      " 13  Total_Serious_Injuries  88612 non-null  int64         \n",
      " 14  Total_Minor_Injuries    88612 non-null  int64         \n",
      " 15  Total_Uninjured         88612 non-null  int64         \n",
      " 16  Weather_Condition       88612 non-null  object        \n",
      " 17  Broad_phase_of_flight   88612 non-null  object        \n",
      " 18  Report_Status           88612 non-null  object        \n",
      " 19  Total_Injuries          88612 non-null  int64         \n",
      "dtypes: datetime64[ns](1), int64(6), object(13)\n",
      "memory usage: 14.2+ MB\n"
     ]
    }
   ],
   "source": [
    "aviation_df.info()"
   ]
  },
  {
   "cell_type": "code",
   "execution_count": 44,
   "metadata": {},
   "outputs": [],
   "source": [
    "# Re-encode the 'Report_Status' column to 'latin1' and then decode it back to 'utf-8'\n",
    "# This ensures that any non-UTF-8 characters in the 'Report_Status' column are properly handled\n",
    "# The 'errors=\"ignore\"' argument ensures that any problematic characters that can't be decoded are ignored\n",
    "aviation_df['Report_Status'] = aviation_df['Report_Status'].str.encode('latin1').str.decode('utf-8', errors='ignore')\n"
   ]
  },
  {
   "cell_type": "code",
   "execution_count": null,
   "metadata": {},
   "outputs": [],
   "source": []
  },
  {
   "cell_type": "code",
   "execution_count": null,
   "metadata": {},
   "outputs": [],
   "source": [
    "# Remove duplicate rows from the DataFrame to ensure each record is unique\n",
    "# The 'inplace=True' argument modifies the original DataFrame, removing duplicates directly\n",
    "aviation_df.drop_duplicates(inplace=True)\n",
    "\n",
    "# Print the number of duplicate rows remaining (should be 0 after removing duplicates)\n",
    "# The 'duplicated().sum()' function counts how many rows are duplicated\n",
    "print(\"Duplicate rows:\", aviation_df.duplicated().sum())\n"
   ]
  },
  {
   "cell_type": "code",
   "execution_count": null,
   "metadata": {},
   "outputs": [],
   "source": []
  },
  {
   "cell_type": "code",
   "execution_count": null,
   "metadata": {},
   "outputs": [],
   "source": [
    "# Convert all entries in the 'Make' column to title case (e.g., 'boeing' becomes 'Boeing')\n",
    "# This ensures uniformity in capitalization, making the 'Make' column more consistent\n",
    "aviation_df['Make'] = aviation_df['Make'].str.title()\n",
    "\n",
    "# Count the occurrences of each unique value in the 'Make' column\n",
    "make_counts = aviation_df['Make'].value_counts()\n",
    "\n",
    "# Identify makes with 10 or more occurrences\n",
    "# This step filters out less common makes, focusing on those that appear frequently enough to be considered significant\n",
    "common_makes = make_counts[make_counts >= 10].index"
   ]
  },
  {
   "cell_type": "code",
   "execution_count": null,
   "metadata": {},
   "outputs": [],
   "source": [
    "# Convert all entries in the 'Model' column to uppercase and remove leading/trailing whitespace\n",
    "# This standardizes the 'Model' column by ensuring consistent capitalization and eliminating extra spaces\n",
    "aviation_df['Model'] = aviation_df['Model'].str.upper().str.strip()\n",
    "\n",
    "# Count the occurrences of each unique value in the 'Model' column\n",
    "model_counts = aviation_df['Model'].value_counts()\n",
    "\n",
    "# Identify models with 10 or more occurrences\n",
    "# This step filters out less common models, focusing on those that appear frequently enough to be considered significant\n",
    "common_models = model_counts[model_counts >= 10].index  # threshold can be adjusted\n"
   ]
  },
  {
   "cell_type": "code",
   "execution_count": null,
   "metadata": {},
   "outputs": [],
   "source": []
  },
  {
   "cell_type": "code",
   "execution_count": null,
   "metadata": {},
   "outputs": [],
   "source": []
  },
  {
   "cell_type": "markdown",
   "metadata": {},
   "source": [
    "Savethe file to csv "
   ]
  },
  {
   "cell_type": "code",
   "execution_count": 43,
   "metadata": {},
   "outputs": [
    {
     "name": "stdout",
     "output_type": "stream",
     "text": [
      "DataFrame has been saved as 'aviation_data_clean.csv' ready for Tableau\n"
     ]
    }
   ],
   "source": [
    "# Save the cleaned DataFrame to a new CSV file\n",
    "aviation_df.to_csv('aviation_data_clean.csv', index=False)\n",
    "\n",
    "# Notify that the data has been successfully saved\n",
    "print(\"DataFrame has been saved as 'aviation_data_clean.csv' ready for Tableau\")"
   ]
  },
  {
   "cell_type": "code",
   "execution_count": null,
   "metadata": {},
   "outputs": [],
   "source": []
  }
 ],
 "metadata": {
  "kernelspec": {
   "display_name": "Python 3 (ipykernel)",
   "language": "python",
   "name": "python3"
  },
  "language_info": {
   "codemirror_mode": {
    "name": "ipython",
    "version": 3
   },
   "file_extension": ".py",
   "mimetype": "text/x-python",
   "name": "python",
   "nbconvert_exporter": "python",
   "pygments_lexer": "ipython3",
   "version": "3.12.1"
  }
 },
 "nbformat": 4,
 "nbformat_minor": 2
}
